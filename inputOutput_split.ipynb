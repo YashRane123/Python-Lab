{
  "nbformat": 4,
  "nbformat_minor": 0,
  "metadata": {
    "colab": {
      "name": "inputOutput_split.ipynb",
      "provenance": []
    },
    "kernelspec": {
      "name": "python3",
      "display_name": "Python 3"
    },
    "language_info": {
      "name": "python"
    }
  },
  "cells": [
    {
      "cell_type": "code",
      "metadata": {
        "colab": {
          "base_uri": "https://localhost:8080/",
          "height": 52
        },
        "id": "Ds5kytNkbQat",
        "outputId": "e4532463-02ab-46c4-8f55-6f1af6c2a223"
      },
      "source": [
        "s= input()\n",
        "s"
      ],
      "execution_count": 1,
      "outputs": [
        {
          "name": "stdout",
          "output_type": "stream",
          "text": [
            "yash 456 9.0\n"
          ]
        },
        {
          "output_type": "execute_result",
          "data": {
            "application/vnd.google.colaboratory.intrinsic+json": {
              "type": "string"
            },
            "text/plain": [
              "'yash 456 9.0'"
            ]
          },
          "metadata": {},
          "execution_count": 1
        }
      ]
    },
    {
      "cell_type": "code",
      "metadata": {
        "colab": {
          "base_uri": "https://localhost:8080/"
        },
        "id": "0zJ8N7WKbubE",
        "outputId": "188e7a6b-8d11-4802-d74a-86b692e5e922"
      },
      "source": [
        "name = input(\"Enter your name : \")\n",
        "print (\"Hello\",name)"
      ],
      "execution_count": 2,
      "outputs": [
        {
          "output_type": "stream",
          "name": "stdout",
          "text": [
            "Enter your name : Yash\n",
            "Hello Yash\n"
          ]
        }
      ]
    },
    {
      "cell_type": "code",
      "metadata": {
        "colab": {
          "base_uri": "https://localhost:8080/",
          "height": 197
        },
        "id": "QXhcS9Zlb81j",
        "outputId": "01ee82fc-61db-48cc-fbc1-d4678aac6218"
      },
      "source": [
        "num = input(\"Enter a number : \") #this code will not work as num is of str type\n",
        "print (num+100)"
      ],
      "execution_count": 4,
      "outputs": [
        {
          "name": "stdout",
          "output_type": "stream",
          "text": [
            "Enter a number : 50\n"
          ]
        },
        {
          "output_type": "error",
          "ename": "TypeError",
          "evalue": "ignored",
          "traceback": [
            "\u001b[0;31m---------------------------------------------------------------------------\u001b[0m",
            "\u001b[0;31mTypeError\u001b[0m                                 Traceback (most recent call last)",
            "\u001b[0;32m<ipython-input-4-8edd22c397bb>\u001b[0m in \u001b[0;36m<module>\u001b[0;34m()\u001b[0m\n\u001b[1;32m      1\u001b[0m \u001b[0mnum\u001b[0m \u001b[0;34m=\u001b[0m \u001b[0minput\u001b[0m\u001b[0;34m(\u001b[0m\u001b[0;34m\"Enter a number : \"\u001b[0m\u001b[0;34m)\u001b[0m \u001b[0;31m#this code will not work as num is of str type\u001b[0m\u001b[0;34m\u001b[0m\u001b[0;34m\u001b[0m\u001b[0m\n\u001b[0;32m----> 2\u001b[0;31m \u001b[0mprint\u001b[0m \u001b[0;34m(\u001b[0m\u001b[0mnum\u001b[0m\u001b[0;34m+\u001b[0m\u001b[0;36m100\u001b[0m\u001b[0;34m)\u001b[0m\u001b[0;34m\u001b[0m\u001b[0;34m\u001b[0m\u001b[0m\n\u001b[0m",
            "\u001b[0;31mTypeError\u001b[0m: can only concatenate str (not \"int\") to str"
          ]
        }
      ]
    },
    {
      "cell_type": "code",
      "metadata": {
        "colab": {
          "base_uri": "https://localhost:8080/"
        },
        "id": "57SKEkK1cXib",
        "outputId": "69ceb767-54e9-49ab-ab1a-273f9829b61a"
      },
      "source": [
        "n =input(\"Enter a number: \")\n",
        "type(n)"
      ],
      "execution_count": 5,
      "outputs": [
        {
          "name": "stdout",
          "output_type": "stream",
          "text": [
            "Enter a number: 50\n"
          ]
        },
        {
          "output_type": "execute_result",
          "data": {
            "text/plain": [
              "str"
            ]
          },
          "metadata": {},
          "execution_count": 5
        }
      ]
    },
    {
      "cell_type": "code",
      "metadata": {
        "colab": {
          "base_uri": "https://localhost:8080/"
        },
        "id": "lD-2gXuvcwje",
        "outputId": "7aa79d2f-51c7-457e-e95b-bd56c1e368b5"
      },
      "source": [
        "n = int(input(\"Enter a number: \"))\n",
        "print(n+150)\n"
      ],
      "execution_count": 6,
      "outputs": [
        {
          "output_type": "stream",
          "name": "stdout",
          "text": [
            "Enter a number: 50\n",
            "200\n"
          ]
        }
      ]
    },
    {
      "cell_type": "code",
      "metadata": {
        "colab": {
          "base_uri": "https://localhost:8080/"
        },
        "id": "DJnC4iNsc6ZQ",
        "outputId": "e851358e-10e5-4fdb-cf3b-4883e43a87eb"
      },
      "source": [
        "fname = \"Yash\"\n",
        "lname = \"Rane\"\n",
        "print(\"Name: \",fname,lname)"
      ],
      "execution_count": 7,
      "outputs": [
        {
          "output_type": "stream",
          "name": "stdout",
          "text": [
            "Name:  Yash Rane\n"
          ]
        }
      ]
    },
    {
      "cell_type": "code",
      "metadata": {
        "colab": {
          "base_uri": "https://localhost:8080/"
        },
        "id": "bvkNR3kIdLge",
        "outputId": "45905a70-8659-49ec-b3f2-037769ceb323"
      },
      "source": [
        "print('yashrane','ci',19,sep='/')"
      ],
      "execution_count": 9,
      "outputs": [
        {
          "output_type": "stream",
          "name": "stdout",
          "text": [
            "yashrane/ci/19\n"
          ]
        }
      ]
    },
    {
      "cell_type": "code",
      "metadata": {
        "colab": {
          "base_uri": "https://localhost:8080/"
        },
        "id": "3bF0-k6sdmWt",
        "outputId": "1c238863-06e8-48bf-9d5b-ce9b45444244"
      },
      "source": [
        "print('yashrane','ci',19,sep='...')"
      ],
      "execution_count": 10,
      "outputs": [
        {
          "output_type": "stream",
          "name": "stdout",
          "text": [
            "yashrane...ci...19\n"
          ]
        }
      ]
    },
    {
      "cell_type": "code",
      "metadata": {
        "colab": {
          "base_uri": "https://localhost:8080/"
        },
        "id": "FbExEqz8dqnO",
        "outputId": "386520da-56bf-4eb0-c1d9-f817b0e28289"
      },
      "source": [
        "print('yash')\n",
        "print('ci')\n",
        "print(69)"
      ],
      "execution_count": 11,
      "outputs": [
        {
          "output_type": "stream",
          "name": "stdout",
          "text": [
            "yash\n",
            "ci\n",
            "69\n"
          ]
        }
      ]
    },
    {
      "cell_type": "code",
      "metadata": {
        "colab": {
          "base_uri": "https://localhost:8080/"
        },
        "id": "C-FifoUOd6hM",
        "outputId": "f2bcf5f5-6aae-4edb-fe93-3a3d4bfc2ea5"
      },
      "source": [
        "print('yash', end='/')\n",
        "print('ci', end='/')\n",
        "print(69)"
      ],
      "execution_count": 12,
      "outputs": [
        {
          "output_type": "stream",
          "name": "stdout",
          "text": [
            "yash/ci/69\n"
          ]
        }
      ]
    },
    {
      "cell_type": "code",
      "metadata": {
        "colab": {
          "base_uri": "https://localhost:8080/"
        },
        "id": "Te_Rg79leCgV",
        "outputId": "a9d64b54-df30-4b9a-de0a-99ee09da6798"
      },
      "source": [
        "print('yash','ci',69,sep='') \n"
      ],
      "execution_count": 14,
      "outputs": [
        {
          "output_type": "stream",
          "name": "stdout",
          "text": [
            "yashci69"
          ]
        }
      ]
    },
    {
      "cell_type": "code",
      "metadata": {
        "colab": {
          "base_uri": "https://localhost:8080/"
        },
        "id": "lfhcfdgDejIj",
        "outputId": "94c3e9b1-1fa0-4331-b82f-d930c4d084be"
      },
      "source": [
        "for n in range (10):\n",
        "  print(n)"
      ],
      "execution_count": 16,
      "outputs": [
        {
          "output_type": "stream",
          "name": "stdout",
          "text": [
            "0\n",
            "1\n",
            "2\n",
            "3\n",
            "4\n",
            "5\n",
            "6\n",
            "7\n",
            "8\n",
            "9\n"
          ]
        }
      ]
    },
    {
      "cell_type": "code",
      "metadata": {
        "colab": {
          "base_uri": "https://localhost:8080/"
        },
        "id": "phzH8OI0erzr",
        "outputId": "caf6e5f2-3a8a-4cec-d91c-36117756ea58"
      },
      "source": [
        "for n in range (10):\n",
        "  print(n,end=' ')"
      ],
      "execution_count": 17,
      "outputs": [
        {
          "output_type": "stream",
          "name": "stdout",
          "text": [
            "0 1 2 3 4 5 6 7 8 9 "
          ]
        }
      ]
    },
    {
      "cell_type": "code",
      "metadata": {
        "colab": {
          "base_uri": "https://localhost:8080/"
        },
        "id": "4d1T6CZ-e7vS",
        "outputId": "37d9de47-9865-45db-9da3-a6ab18fc746e"
      },
      "source": [
        "print('%d %s cost Rs %2f'%(8,'apples',2.25))"
      ],
      "execution_count": 20,
      "outputs": [
        {
          "output_type": "stream",
          "name": "stdout",
          "text": [
            "8 apples cost Rs 2.250000\n"
          ]
        }
      ]
    },
    {
      "cell_type": "code",
      "metadata": {
        "colab": {
          "base_uri": "https://localhost:8080/"
        },
        "id": "AOabTT1-fUg-",
        "outputId": "49a37e3b-112b-472e-b974-4f17a76a028e"
      },
      "source": [
        "print(\"Hello, my name is %s\"%'yash')"
      ],
      "execution_count": 22,
      "outputs": [
        {
          "output_type": "stream",
          "name": "stdout",
          "text": [
            "Hello, my name is yash\n"
          ]
        }
      ]
    },
    {
      "cell_type": "code",
      "metadata": {
        "colab": {
          "base_uri": "https://localhost:8080/"
        },
        "id": "G_RmFNkHfhNj",
        "outputId": "aa75b188-5f41-4d2f-c4b7-21ebbc60cee1"
      },
      "source": [
        "a = \"welcome to the csit department\"\n",
        "b = a.split()\n",
        "b"
      ],
      "execution_count": 23,
      "outputs": [
        {
          "output_type": "execute_result",
          "data": {
            "text/plain": [
              "['welcome', 'to', 'the', 'csit', 'department']"
            ]
          },
          "metadata": {},
          "execution_count": 23
        }
      ]
    },
    {
      "cell_type": "code",
      "metadata": {
        "colab": {
          "base_uri": "https://localhost:8080/"
        },
        "id": "sOiuTSSHfsz8",
        "outputId": "74cf4e77-1b7b-409b-8969-b537adab2637"
      },
      "source": [
        "txt = \"Hello my name is yash , I am 20 yrs old\"\n",
        "txt.split(\",\")"
      ],
      "execution_count": 25,
      "outputs": [
        {
          "output_type": "execute_result",
          "data": {
            "text/plain": [
              "['Hello my name is yash ', ' I am 20 yrs old']"
            ]
          },
          "metadata": {},
          "execution_count": 25
        }
      ]
    },
    {
      "cell_type": "code",
      "metadata": {
        "colab": {
          "base_uri": "https://localhost:8080/"
        },
        "id": "DXHiLMuSgAMD",
        "outputId": "e9e01e37-7341-4038-d983-0ac48fd9e0f3"
      },
      "source": [
        "a= \"apples#mango#banana#orange\"\n",
        "a.split('#')"
      ],
      "execution_count": 26,
      "outputs": [
        {
          "output_type": "execute_result",
          "data": {
            "text/plain": [
              "['apples', 'mango', 'banana', 'orange']"
            ]
          },
          "metadata": {},
          "execution_count": 26
        }
      ]
    },
    {
      "cell_type": "code",
      "metadata": {
        "colab": {
          "base_uri": "https://localhost:8080/"
        },
        "id": "btRpojQUgLC4",
        "outputId": "10076cc4-9c67-4e21-a477-e132d60e0f3b"
      },
      "source": [
        "a= \"apples#mango#banana#orange\"\n",
        "a.split(\"#\",1)"
      ],
      "execution_count": 27,
      "outputs": [
        {
          "output_type": "execute_result",
          "data": {
            "text/plain": [
              "['apples', 'mango#banana#orange']"
            ]
          },
          "metadata": {},
          "execution_count": 27
        }
      ]
    }
  ]
}