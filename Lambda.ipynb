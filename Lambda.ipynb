{
  "nbformat": 4,
  "nbformat_minor": 0,
  "metadata": {
    "colab": {
      "name": "Lambda.ipynb",
      "provenance": []
    },
    "kernelspec": {
      "name": "python3",
      "display_name": "Python 3"
    },
    "language_info": {
      "name": "python"
    }
  },
  "cells": [
    {
      "cell_type": "code",
      "metadata": {
        "colab": {
          "base_uri": "https://localhost:8080/"
        },
        "id": "3idEPRedJ335",
        "outputId": "ae966847-1c87-43b5-c00f-c45171a9fce0"
      },
      "source": [
        "table = [lambda x=x: 2*x for x in range(1,11)]\n",
        "\n",
        "for i in table:\n",
        "  print(i())\n"
      ],
      "execution_count": null,
      "outputs": [
        {
          "output_type": "stream",
          "text": [
            "2\n",
            "4\n",
            "6\n",
            "8\n",
            "10\n",
            "12\n",
            "14\n",
            "16\n",
            "18\n",
            "20\n"
          ],
          "name": "stdout"
        }
      ]
    },
    {
      "cell_type": "code",
      "metadata": {
        "colab": {
          "base_uri": "https://localhost:8080/"
        },
        "id": "a_YZlDAhLDVW",
        "outputId": "68e04a17-cba9-489c-f2df-32c20338a4d6"
      },
      "source": [
        "list1=[1,2,3,4,5]\n",
        "double =[lambda x = x :  x*x     for x in list1]\n",
        "for i in double:\n",
        "  print(i())"
      ],
      "execution_count": null,
      "outputs": [
        {
          "output_type": "stream",
          "text": [
            "1\n",
            "4\n",
            "9\n",
            "16\n",
            "25\n"
          ],
          "name": "stdout"
        }
      ]
    },
    {
      "cell_type": "code",
      "metadata": {
        "colab": {
          "base_uri": "https://localhost:8080/"
        },
        "id": "iH3C9niRMMcU",
        "outputId": "3291ec56-d6c5-418b-d1ff-2e91953395d1"
      },
      "source": [
        "from functools import reduce\n",
        "li =[5,6,7,8,9,10,11]\n",
        "sum = reduce(lambda x,y:x+y,li)\n",
        "sum"
      ],
      "execution_count": null,
      "outputs": [
        {
          "output_type": "execute_result",
          "data": {
            "text/plain": [
              "56"
            ]
          },
          "metadata": {},
          "execution_count": 5
        }
      ]
    },
    {
      "cell_type": "code",
      "metadata": {
        "colab": {
          "base_uri": "https://localhost:8080/"
        },
        "id": "mE14esbFNlIB",
        "outputId": "7ce34b6f-052c-46d6-9fdd-310149abdada"
      },
      "source": [
        "from functools import reduce\n",
        "li =[5,6,7,8,9,10,11]\n",
        "max = reduce(lambda x,y:x if x>y else y,li)\n",
        "max"
      ],
      "execution_count": null,
      "outputs": [
        {
          "output_type": "execute_result",
          "data": {
            "text/plain": [
              "11"
            ]
          },
          "metadata": {},
          "execution_count": 6
        }
      ]
    },
    {
      "cell_type": "code",
      "metadata": {
        "colab": {
          "base_uri": "https://localhost:8080/"
        },
        "id": "ccAyBni7NuFh",
        "outputId": "7dc3c715-5fd1-45da-c126-b004b19f522c"
      },
      "source": [
        "from functools import reduce\n",
        "age =[5,6,7,8,9,10,11]\n",
        "list(filter(lambda x: x<10 ,age))\n"
      ],
      "execution_count": null,
      "outputs": [
        {
          "output_type": "execute_result",
          "data": {
            "text/plain": [
              "[5, 6, 7, 8, 9]"
            ]
          },
          "metadata": {},
          "execution_count": 7
        }
      ]
    },
    {
      "cell_type": "code",
      "metadata": {
        "colab": {
          "base_uri": "https://localhost:8080/"
        },
        "id": "ma9FiDC8OOge",
        "outputId": "df4a74c0-2739-4fb8-fc2b-b3dd07c58177"
      },
      "source": [
        "str1 = ['dog','cat']\n",
        "list(map(lambda x: x.upper(),str1))"
      ],
      "execution_count": null,
      "outputs": [
        {
          "output_type": "execute_result",
          "data": {
            "text/plain": [
              "['DOG', 'CAT']"
            ]
          },
          "metadata": {},
          "execution_count": 9
        }
      ]
    }
  ]
}