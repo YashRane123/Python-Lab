{
  "nbformat": 4,
  "nbformat_minor": 0,
  "metadata": {
    "colab": {
      "name": "Python_Lab_Programms.ipynb",
      "provenance": []
    },
    "kernelspec": {
      "name": "python3",
      "display_name": "Python 3"
    },
    "language_info": {
      "name": "python"
    }
  },
  "cells": [
    {
      "cell_type": "code",
      "metadata": {
        "colab": {
          "base_uri": "https://localhost:8080/"
        },
        "id": "iO6hubUnlkg3",
        "outputId": "d0127bf6-0e27-4b77-a1ed-a56cc57c6ae1"
      },
      "source": [
        "#program 1\n",
        "a = float(input(\"Enter the first number: \"))\n",
        "b = float(input(\"enter the second number: \"))\n",
        "c = \"{:.2f}\".format(a)\n",
        "d = \"{:.2f}\".format(b)\n",
        "print(c)\n",
        "print(d)"
      ],
      "execution_count": 1,
      "outputs": [
        {
          "output_type": "stream",
          "name": "stdout",
          "text": [
            "Enter the first number: 25\n",
            "enter the second number: 62\n",
            "25.00\n",
            "62.00\n"
          ]
        }
      ]
    },
    {
      "cell_type": "code",
      "metadata": {
        "colab": {
          "base_uri": "https://localhost:8080/"
        },
        "id": "Huy_1kKCmBf1",
        "outputId": "5ef3e89c-aa9c-405b-986d-9d98f9ab09fa"
      },
      "source": [
        "#program 2\n",
        "a = int(input(\"Enter the first number: \"))\n",
        "b = int(input(\"Enter the second number: \"))\n",
        "\n",
        "print(a * b)"
      ],
      "execution_count": 2,
      "outputs": [
        {
          "output_type": "stream",
          "name": "stdout",
          "text": [
            "Enter the first number: 5\n",
            "Enter the second number: 6\n",
            "30\n"
          ]
        }
      ]
    },
    {
      "cell_type": "code",
      "metadata": {
        "colab": {
          "base_uri": "https://localhost:8080/"
        },
        "id": "PFwE2TIVmHo7",
        "outputId": "0afb0186-5395-4242-e5e6-0b88f7d7cfde"
      },
      "source": [
        "#program 3\n",
        "r = 10\n",
        "v = (4 * 22 * r * r * r)/(3 * 7)\n",
        "\n",
        "print(\"Volume of the sphere = \",v )"
      ],
      "execution_count": 3,
      "outputs": [
        {
          "output_type": "stream",
          "name": "stdout",
          "text": [
            "Volume of the sphere =  4190.476190476191\n"
          ]
        }
      ]
    },
    {
      "cell_type": "code",
      "metadata": {
        "colab": {
          "base_uri": "https://localhost:8080/"
        },
        "id": "WPyIeqBomMNT",
        "outputId": "5538ac74-ed90-48df-8dd3-7b5020991ee4"
      },
      "source": [
        "#program 4\n",
        "a = int(input(\"Enter the first number: \"))\n",
        "b = int(input(\"Enter the second number: \"))\n",
        "\n",
        "print(a * b)"
      ],
      "execution_count": 4,
      "outputs": [
        {
          "output_type": "stream",
          "name": "stdout",
          "text": [
            "Enter the first number: 25\n",
            "Enter the second number: 2\n",
            "50\n"
          ]
        }
      ]
    },
    {
      "cell_type": "code",
      "metadata": {
        "colab": {
          "base_uri": "https://localhost:8080/"
        },
        "id": "DPxuRM7NmYYS",
        "outputId": "adb08489-8701-4c15-f762-f46e136e7196"
      },
      "source": [
        "#program 5\n",
        "a = int(input(\"Enter the value: \"))\n",
        "b = a + (a*a) + (a*a*a)\n",
        "print(\"The valu of a+aa+aaa= \",b)"
      ],
      "execution_count": 5,
      "outputs": [
        {
          "output_type": "stream",
          "name": "stdout",
          "text": [
            "Enter the value: 5\n",
            "The valu of a+aa+aaa=  155\n"
          ]
        }
      ]
    },
    {
      "cell_type": "code",
      "metadata": {
        "colab": {
          "base_uri": "https://localhost:8080/"
        },
        "id": "uSVoAHyDmewq",
        "outputId": "9b656fdf-672c-49dd-e8ce-ebb6653e376f"
      },
      "source": [
        "#program 6\n",
        "string = str(input(\"Enter the string: \"))\n",
        "string = len(string)\n",
        "print(\"The length of string is \",string)"
      ],
      "execution_count": 6,
      "outputs": [
        {
          "output_type": "stream",
          "name": "stdout",
          "text": [
            "Enter the string: computer\n",
            "The length of string is  8\n"
          ]
        }
      ]
    },
    {
      "cell_type": "code",
      "metadata": {
        "colab": {
          "base_uri": "https://localhost:8080/"
        },
        "id": "jruQTexUmlMC",
        "outputId": "41f1d983-dd6f-4ae2-9a44-17f37fa74857"
      },
      "source": [
        "#program 7\n",
        "salary = \"45000\"\n",
        "\n",
        "sal = int(salary)\n",
        "\n",
        "#print type\n",
        "print(type(sal))\n",
        "\n",
        "#print the value\n",
        "print(sal)\n"
      ],
      "execution_count": 7,
      "outputs": [
        {
          "output_type": "stream",
          "name": "stdout",
          "text": [
            "<class 'int'>\n",
            "45000\n"
          ]
        }
      ]
    },
    {
      "cell_type": "code",
      "metadata": {
        "colab": {
          "base_uri": "https://localhost:8080/"
        },
        "id": "NfUIOnmSmy2h",
        "outputId": "093b4ce6-e180-4ff7-f355-1825b8235ba5"
      },
      "source": [
        "#Program 7 \n",
        "salary = \"45000\"\n",
        "sal = float(salary)\n",
        "print(type(sal))\n",
        "print(sal)"
      ],
      "execution_count": 8,
      "outputs": [
        {
          "output_type": "stream",
          "name": "stdout",
          "text": [
            "<class 'float'>\n",
            "45000.0\n"
          ]
        }
      ]
    },
    {
      "cell_type": "code",
      "metadata": {
        "colab": {
          "base_uri": "https://localhost:8080/"
        },
        "id": "6UbSYMU2m4lI",
        "outputId": "f47ebc7d-5475-4351-ee7f-6beb6618c5f4"
      },
      "source": [
        "#Program 8\n",
        "a = int(input(\"enter the first number: \"))\n",
        "b = int(input(\"enter the second number: \"))\n",
        "\n",
        "c = a+b\n",
        "print(c)\n",
        "\n",
        "if(c > 100):\n",
        "  print(a*b)\n"
      ],
      "execution_count": 10,
      "outputs": [
        {
          "output_type": "stream",
          "name": "stdout",
          "text": [
            "enter the first number: 50\n",
            "enter the second number: 60\n",
            "110\n",
            "3000\n"
          ]
        }
      ]
    },
    {
      "cell_type": "code",
      "metadata": {
        "colab": {
          "base_uri": "https://localhost:8080/"
        },
        "id": "_b7-yaBtnGBK",
        "outputId": "25188270-ca5e-458b-f05d-1a7e833f8c5d"
      },
      "source": [
        "#Program 9\n",
        "a = int(input(\"Enter the first number: \"))\n",
        "b = int(input(\"Enter the second number: \"))\n",
        "c = int(input(\"Enter the third number: \"))\n",
        "\n",
        "d = a + b + c\n",
        "print(d)\n",
        "\n",
        "if(a != b != c):\n",
        "  print(4*d)"
      ],
      "execution_count": 11,
      "outputs": [
        {
          "output_type": "stream",
          "name": "stdout",
          "text": [
            "Enter the first number: 1\n",
            "Enter the second number: 2\n",
            "Enter the third number: 3\n",
            "6\n",
            "24\n"
          ]
        }
      ]
    },
    {
      "cell_type": "code",
      "metadata": {
        "colab": {
          "base_uri": "https://localhost:8080/"
        },
        "id": "Vch72AApnNx3",
        "outputId": "a4fa7939-2f65-4edf-d3ff-536325f58ba9"
      },
      "source": [
        "#Program 10\n",
        "quantity = int(input(\"Enter the quantity : \"))\n",
        "print(\"Cost of 1 unit = 100\")\n",
        "price = quantity *100\n",
        "if(quantity > 10000):\n",
        "  cost = float(price *50/100)\n",
        "  print(\"The total cost = \",cost)\n",
        "else:\n",
        "  print(\"The total cost = \",price)"
      ],
      "execution_count": 13,
      "outputs": [
        {
          "output_type": "stream",
          "name": "stdout",
          "text": [
            "Enter the quantity : 25256\n",
            "Cost of 1 unit = 100\n",
            "The total cost =  1262800.0\n"
          ]
        }
      ]
    },
    {
      "cell_type": "code",
      "metadata": {
        "colab": {
          "base_uri": "https://localhost:8080/"
        },
        "id": "FX6y8qFencEP",
        "outputId": "ebfd5b02-ad1c-4da1-adec-73ce9fef2565"
      },
      "source": [
        "#Program 11 (divisible 8)\n",
        "a = int(input(\"Enter the number: \"))\n",
        "if ( a % 8 ==0 ):\n",
        "  print(\"The number is divisible by 8\")\n",
        "\n",
        "else:\n",
        "  print(\"The number is not divisible by 8\")\n"
      ],
      "execution_count": 14,
      "outputs": [
        {
          "output_type": "stream",
          "name": "stdout",
          "text": [
            "Enter the number: 56\n",
            "The number is divisible by 8\n"
          ]
        }
      ]
    },
    {
      "cell_type": "code",
      "metadata": {
        "colab": {
          "base_uri": "https://localhost:8080/"
        },
        "id": "Pe6NHy1gnlWf",
        "outputId": "b004ff88-1b6a-4b65-e5d4-5ecc6f4c3e43"
      },
      "source": [
        "#Program 11(divisible by 12)\n",
        "b = int(input(\"Enter the number: \"))\n",
        "if ( b % 12 ==0 ):\n",
        "  print(\"The number is divisible by 12\")\n",
        "\n",
        "else:\n",
        "  print(\"The number is not divisible by 12\")"
      ],
      "execution_count": 15,
      "outputs": [
        {
          "output_type": "stream",
          "name": "stdout",
          "text": [
            "Enter the number: 56\n",
            "The number is not divisible by 12\n"
          ]
        }
      ]
    },
    {
      "cell_type": "code",
      "metadata": {
        "colab": {
          "base_uri": "https://localhost:8080/"
        },
        "id": "RxZNd6qjnr--",
        "outputId": "84910710-959c-4c04-b7aa-94383672d8fc"
      },
      "source": [
        "#Program 12\n",
        "a = int(input(\"Enter the number: \"))\n",
        "if(a %2 == 0):\n",
        "  print(\"The number is even\")\n",
        "else:\n",
        "  print(\"The number is odd\")"
      ],
      "execution_count": 16,
      "outputs": [
        {
          "output_type": "stream",
          "name": "stdout",
          "text": [
            "Enter the number: 13\n",
            "The number is odd\n"
          ]
        }
      ]
    },
    {
      "cell_type": "code",
      "metadata": {
        "colab": {
          "base_uri": "https://localhost:8080/"
        },
        "id": "7YA8j62cnwNW",
        "outputId": "a408192a-57e4-4d9f-b411-86cd094c78c9"
      },
      "source": [
        "#Program 13\n",
        "phy = int(input(\"Enter the marks of physics out of 100: \"))\n",
        "chem = int(input(\"Enter the marks of chemistry out of 100: \"))\n",
        "mt = int(input(\"Enter the marks of maths out of 100: \"))\n",
        "bio = int(input(\"Enter the marks of biology out of 100: \"))\n",
        "comp = int(input(\"Enter the marks of computer out of 100: \"))\n",
        "\n",
        "per = (phy + chem + mt + bio + comp)/500 * 100\n",
        "\n",
        "print(\"percentage = \",float(per))\n",
        "if(per >= 90):\n",
        "  print(\"Grade A\")\n",
        "elif(per >= 80):\n",
        "  print(\"Grade B\")\n",
        "elif(per >= 70):\n",
        "  print(\"Grade C\")\n",
        "elif(per >= 60):\n",
        "  print(\"Grade D\")\n",
        "elif(per >= 50):\n",
        "  print(\"Grade E\")\n",
        "else:\n",
        "  print(\"Grade F\")\n"
      ],
      "execution_count": 17,
      "outputs": [
        {
          "output_type": "stream",
          "name": "stdout",
          "text": [
            "Enter the marks of physics out of 100: 85\n",
            "Enter the marks of chemistry out of 100: 65\n",
            "Enter the marks of maths out of 100: 94\n",
            "Enter the marks of biology out of 100: 56\n",
            "Enter the marks of computer out of 100: 80\n",
            "percentage =  76.0\n",
            "Grade C\n"
          ]
        }
      ]
    },
    {
      "cell_type": "code",
      "metadata": {
        "colab": {
          "base_uri": "https://localhost:8080/"
        },
        "id": "VIKsh5Gvn8wG",
        "outputId": "cdc0c668-57f6-4da3-aa44-865642ace0ae"
      },
      "source": [
        "#Program 14\n",
        "a = int(input(\"enter the age of first person: \"))\n",
        "b = int(input(\"enter the age of second person: \"))\n",
        "c = int(input(\"enter the age of third person: \"))\n",
        "if(a > b and a >c):\n",
        "  print(\"first person is older\")\n",
        "elif(b > a and b >c):\n",
        "  print(\"second person is older\")\n",
        "elif(c > a and c >b):\n",
        "  print(\"third person is older\")\n",
        "else:\n",
        "  print(\"All are of equal age\")"
      ],
      "execution_count": 21,
      "outputs": [
        {
          "output_type": "stream",
          "name": "stdout",
          "text": [
            "enter the age of first person: 56\n",
            "enter the age of second person: 68\n",
            "enter the age of third person: 12\n",
            "second person is older\n"
          ]
        }
      ]
    },
    {
      "cell_type": "code",
      "metadata": {
        "colab": {
          "base_uri": "https://localhost:8080/"
        },
        "id": "t-DJ9zBCoSPU",
        "outputId": "6c342224-4511-44a6-9561-95b9649b5740"
      },
      "source": [
        "#Program 15\n",
        "n = int(input(\"enter the electicity units: \"))\n",
        "charge = float(20/100)\n",
        "if(n<=50):\n",
        "  bill = 0.50*n+charge\n",
        "elif(n>50 and n<=150):\n",
        "  bill = 0.75*n + charge\n",
        "elif(n>150 and n<=250):\n",
        "  bill = 1.20*n + charge\n",
        "else:\n",
        "  bill = 1.50*n + charge\n",
        "print(\"Bill = \",float(bill))"
      ],
      "execution_count": 22,
      "outputs": [
        {
          "output_type": "stream",
          "name": "stdout",
          "text": [
            "enter the electicity units: 251\n",
            "Bill =  376.7\n"
          ]
        }
      ]
    }
  ]
}