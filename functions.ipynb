{
  "nbformat": 4,
  "nbformat_minor": 0,
  "metadata": {
    "colab": {
      "name": "functions.ipynb",
      "provenance": []
    },
    "kernelspec": {
      "name": "python3",
      "display_name": "Python 3"
    },
    "language_info": {
      "name": "python"
    }
  },
  "cells": [
    {
      "cell_type": "code",
      "metadata": {
        "colab": {
          "base_uri": "https://localhost:8080/"
        },
        "id": "Oj8loyvuglb5",
        "outputId": "ed4953ac-19a0-4601-c3bd-9f3051e2f537"
      },
      "source": [
        "def greet(name):\n",
        "  print(\"Hello, \" + name + \" good morning!\")\n",
        "greet('Yash')"
      ],
      "execution_count": null,
      "outputs": [
        {
          "output_type": "stream",
          "name": "stdout",
          "text": [
            "Hello, Yash good morning!\n"
          ]
        }
      ]
    },
    {
      "cell_type": "code",
      "metadata": {
        "colab": {
          "base_uri": "https://localhost:8080/"
        },
        "id": "BnAdJGcahS_A",
        "outputId": "f570209f-4341-408c-e175-a7e92c665fd6"
      },
      "source": [
        "def absolute(num):\n",
        "  if num>=0:\n",
        "    return num\n",
        "  else:\n",
        "    return -num\n",
        "print(absolute(2))\n",
        "print(absolute(-3))"
      ],
      "execution_count": null,
      "outputs": [
        {
          "output_type": "stream",
          "name": "stdout",
          "text": [
            "2\n",
            "3\n"
          ]
        }
      ]
    },
    {
      "cell_type": "code",
      "metadata": {
        "colab": {
          "base_uri": "https://localhost:8080/"
        },
        "id": "XWghB9sGhpmt",
        "outputId": "819d143f-6960-4668-ba69-bfe779b6150a"
      },
      "source": [
        "def my_func():\n",
        "  x=10\n",
        "  print(\"value inside function: \",x)\n",
        "x=20\n",
        "my_func()\n",
        "print(\"value outside function: \",x)\n"
      ],
      "execution_count": null,
      "outputs": [
        {
          "output_type": "stream",
          "name": "stdout",
          "text": [
            "value inside function:  10\n",
            "value outside function:  20\n"
          ]
        }
      ]
    },
    {
      "cell_type": "code",
      "metadata": {
        "id": "x5ta5snJh_P8",
        "colab": {
          "base_uri": "https://localhost:8080/"
        },
        "outputId": "01298c86-80d2-4788-bd46-873e06c86d1b"
      },
      "source": [
        "def greet(name, msg):\n",
        "    print(\"Hello\", name + ', ' + msg)\n",
        "greet(\"Yash\", \"Good Morning\")"
      ],
      "execution_count": null,
      "outputs": [
        {
          "output_type": "stream",
          "name": "stdout",
          "text": [
            "Hello Yash, Good Morning\n"
          ]
        }
      ]
    },
    {
      "cell_type": "code",
      "metadata": {
        "colab": {
          "base_uri": "https://localhost:8080/"
        },
        "id": "yb1ZcNTQAmsu",
        "outputId": "6590098d-8c43-40ff-afaf-f6461f8e0487"
      },
      "source": [
        "def greet(name, msg=\"Good morning!\"): #Default Argument\n",
        "    print(\"Hello\", name + ', ' + msg)\n",
        "greet(\"Yash\")\n",
        "greet(\"Aayush\", \"How do you do?\")"
      ],
      "execution_count": null,
      "outputs": [
        {
          "output_type": "stream",
          "name": "stdout",
          "text": [
            "Hello Yash, Good morning!\n",
            "Hello Aayush, How do you do?\n"
          ]
        }
      ]
    },
    {
      "cell_type": "code",
      "metadata": {
        "colab": {
          "base_uri": "https://localhost:8080/"
        },
        "id": "HeIKV2-WAvNE",
        "outputId": "4fc666b8-59aa-4757-fcb3-48133a4a0a16"
      },
      "source": [
        "def greet(name, msg): \n",
        "    print(\"Hello\", name + ', ' + msg)\n",
        "greet(name = \"Bruce\",msg = \"How do you do?\")\n",
        "greet(msg = \"How do you do?\",name = \"Bruce\") \n",
        "greet(\"Bruce\", msg = \"How do you do?\")"
      ],
      "execution_count": null,
      "outputs": [
        {
          "output_type": "stream",
          "name": "stdout",
          "text": [
            "Hello Bruce, How do you do?\n",
            "Hello Bruce, How do you do?\n",
            "Hello Bruce, How do you do?\n"
          ]
        }
      ]
    },
    {
      "cell_type": "code",
      "metadata": {
        "colab": {
          "base_uri": "https://localhost:8080/"
        },
        "id": "u1kWftUQA4O0",
        "outputId": "6b2b3ee0-76be-43ee-e725-9c92ad939af1"
      },
      "source": [
        "def greet(*names):\n",
        "    for name in names:\n",
        "        print(\"Hello\", name)\n",
        "greet(\"Monica\", \"Luke\", \"Steve\", \"John\")"
      ],
      "execution_count": null,
      "outputs": [
        {
          "output_type": "stream",
          "name": "stdout",
          "text": [
            "Hello Monica\n",
            "Hello Luke\n",
            "Hello Steve\n",
            "Hello John\n"
          ]
        }
      ]
    },
    {
      "cell_type": "code",
      "metadata": {
        "colab": {
          "base_uri": "https://localhost:8080/"
        },
        "id": "1mgrHEMiBHRb",
        "outputId": "a7740e98-2d93-412f-d34c-532464f666c2"
      },
      "source": [
        "def fact(x):  #recursion function\n",
        "  if x==1:\n",
        "    return 1\n",
        "  else:\n",
        "    return x* fact(x-1)\n",
        "n=5\n",
        "print(\"Factorial of the number = \",fact(n))"
      ],
      "execution_count": null,
      "outputs": [
        {
          "output_type": "stream",
          "name": "stdout",
          "text": [
            "Factorial of the number =  120\n"
          ]
        }
      ]
    },
    {
      "cell_type": "code",
      "metadata": {
        "id": "FrIPMY92Bvxa",
        "colab": {
          "base_uri": "https://localhost:8080/"
        },
        "outputId": "7d933c7c-7cef-46e7-e9d4-c967e17e59a2"
      },
      "source": [
        "def tower_of_hanoi(disks, source, auxiliary, target):  \n",
        "    if(disks == 1):  \n",
        "        print('Move disk 1 from rod {} to rod {}.'.format(source, target))  \n",
        "        return  \n",
        "    tower_of_hanoi(disks - 1, source, target, auxiliary)  \n",
        "    print('Move disk {} from rod {} to rod {}.'.format(disks, source, target))  \n",
        "    tower_of_hanoi(disks - 1, auxiliary, source, target)  \n",
        "disks = int(input('Enter the number of disks: '))  \n",
        "tower_of_hanoi(disks, 'A', 'B', 'C')  "
      ],
      "execution_count": 1,
      "outputs": [
        {
          "output_type": "stream",
          "name": "stdout",
          "text": [
            "Enter the number of disks: 5\n",
            "Move disk 1 from rod A to rod C.\n",
            "Move disk 2 from rod A to rod B.\n",
            "Move disk 1 from rod C to rod B.\n",
            "Move disk 3 from rod A to rod C.\n",
            "Move disk 1 from rod B to rod A.\n",
            "Move disk 2 from rod B to rod C.\n",
            "Move disk 1 from rod A to rod C.\n",
            "Move disk 4 from rod A to rod B.\n",
            "Move disk 1 from rod C to rod B.\n",
            "Move disk 2 from rod C to rod A.\n",
            "Move disk 1 from rod B to rod A.\n",
            "Move disk 3 from rod C to rod B.\n",
            "Move disk 1 from rod A to rod C.\n",
            "Move disk 2 from rod A to rod B.\n",
            "Move disk 1 from rod C to rod B.\n",
            "Move disk 5 from rod A to rod C.\n",
            "Move disk 1 from rod B to rod A.\n",
            "Move disk 2 from rod B to rod C.\n",
            "Move disk 1 from rod A to rod C.\n",
            "Move disk 3 from rod B to rod A.\n",
            "Move disk 1 from rod C to rod B.\n",
            "Move disk 2 from rod C to rod A.\n",
            "Move disk 1 from rod B to rod A.\n",
            "Move disk 4 from rod B to rod C.\n",
            "Move disk 1 from rod A to rod C.\n",
            "Move disk 2 from rod A to rod B.\n",
            "Move disk 1 from rod C to rod B.\n",
            "Move disk 3 from rod A to rod C.\n",
            "Move disk 1 from rod B to rod A.\n",
            "Move disk 2 from rod B to rod C.\n",
            "Move disk 1 from rod A to rod C.\n"
          ]
        }
      ]
    },
    {
      "cell_type": "code",
      "metadata": {
        "colab": {
          "base_uri": "https://localhost:8080/"
        },
        "id": "myk9DrbWdyfW",
        "outputId": "ecfc8340-9efa-4271-c517-90ae5545ce29"
      },
      "source": [
        "x = \"global\"\n",
        "def fun():\n",
        "    print(\"x inside:\", x)\n",
        "fun()\n",
        "print(\"x outside:\", x)"
      ],
      "execution_count": 2,
      "outputs": [
        {
          "output_type": "stream",
          "name": "stdout",
          "text": [
            "x inside: global\n",
            "x outside: global\n"
          ]
        }
      ]
    },
    {
      "cell_type": "code",
      "metadata": {
        "colab": {
          "base_uri": "https://localhost:8080/",
          "height": 316
        },
        "id": "meSLawqud8ge",
        "outputId": "138283f4-1e70-4708-f7e9-eea18064582f"
      },
      "source": [
        "x = \"global\"\n",
        "def foo():\n",
        "    x = x * 2 \n",
        "    print(x)\n",
        "foo()  #error because x is treated as local variable and also not defined inside function"
      ],
      "execution_count": 3,
      "outputs": [
        {
          "output_type": "error",
          "ename": "UnboundLocalError",
          "evalue": "ignored",
          "traceback": [
            "\u001b[0;31m---------------------------------------------------------------------------\u001b[0m",
            "\u001b[0;31mUnboundLocalError\u001b[0m                         Traceback (most recent call last)",
            "\u001b[0;32m<ipython-input-3-b68a467251b3>\u001b[0m in \u001b[0;36m<module>\u001b[0;34m()\u001b[0m\n\u001b[1;32m      3\u001b[0m     \u001b[0mx\u001b[0m \u001b[0;34m=\u001b[0m \u001b[0mx\u001b[0m \u001b[0;34m*\u001b[0m \u001b[0;36m2\u001b[0m\u001b[0;34m\u001b[0m\u001b[0;34m\u001b[0m\u001b[0m\n\u001b[1;32m      4\u001b[0m     \u001b[0mprint\u001b[0m\u001b[0;34m(\u001b[0m\u001b[0mx\u001b[0m\u001b[0;34m)\u001b[0m\u001b[0;34m\u001b[0m\u001b[0;34m\u001b[0m\u001b[0m\n\u001b[0;32m----> 5\u001b[0;31m \u001b[0mfoo\u001b[0m\u001b[0;34m(\u001b[0m\u001b[0;34m)\u001b[0m  \u001b[0;31m#error because x is treated as local variable and also not defined inside function\u001b[0m\u001b[0;34m\u001b[0m\u001b[0;34m\u001b[0m\u001b[0m\n\u001b[0m",
            "\u001b[0;32m<ipython-input-3-b68a467251b3>\u001b[0m in \u001b[0;36mfoo\u001b[0;34m()\u001b[0m\n\u001b[1;32m      1\u001b[0m \u001b[0mx\u001b[0m \u001b[0;34m=\u001b[0m \u001b[0;34m\"global\"\u001b[0m\u001b[0;34m\u001b[0m\u001b[0;34m\u001b[0m\u001b[0m\n\u001b[1;32m      2\u001b[0m \u001b[0;32mdef\u001b[0m \u001b[0mfoo\u001b[0m\u001b[0;34m(\u001b[0m\u001b[0;34m)\u001b[0m\u001b[0;34m:\u001b[0m\u001b[0;34m\u001b[0m\u001b[0;34m\u001b[0m\u001b[0m\n\u001b[0;32m----> 3\u001b[0;31m     \u001b[0mx\u001b[0m \u001b[0;34m=\u001b[0m \u001b[0mx\u001b[0m \u001b[0;34m*\u001b[0m \u001b[0;36m2\u001b[0m\u001b[0;34m\u001b[0m\u001b[0;34m\u001b[0m\u001b[0m\n\u001b[0m\u001b[1;32m      4\u001b[0m     \u001b[0mprint\u001b[0m\u001b[0;34m(\u001b[0m\u001b[0mx\u001b[0m\u001b[0;34m)\u001b[0m\u001b[0;34m\u001b[0m\u001b[0;34m\u001b[0m\u001b[0m\n\u001b[1;32m      5\u001b[0m \u001b[0mfoo\u001b[0m\u001b[0;34m(\u001b[0m\u001b[0;34m)\u001b[0m  \u001b[0;31m#error because x is treated as local variable and also not defined inside function\u001b[0m\u001b[0;34m\u001b[0m\u001b[0;34m\u001b[0m\u001b[0m\n",
            "\u001b[0;31mUnboundLocalError\u001b[0m: local variable 'x' referenced before assignment"
          ]
        }
      ]
    },
    {
      "cell_type": "code",
      "metadata": {
        "colab": {
          "base_uri": "https://localhost:8080/",
          "height": 197
        },
        "id": "-SjXrEkReWm9",
        "outputId": "e87c4444-0d08-46ef-ac17-6251585204fb"
      },
      "source": [
        "def foo():\n",
        "    y = \"local\"\n",
        "foo()\n",
        "print(y)     #error because we are trying to access the local variable as global"
      ],
      "execution_count": 4,
      "outputs": [
        {
          "output_type": "error",
          "ename": "NameError",
          "evalue": "ignored",
          "traceback": [
            "\u001b[0;31m---------------------------------------------------------------------------\u001b[0m",
            "\u001b[0;31mNameError\u001b[0m                                 Traceback (most recent call last)",
            "\u001b[0;32m<ipython-input-4-0fb17765f4ef>\u001b[0m in \u001b[0;36m<module>\u001b[0;34m()\u001b[0m\n\u001b[1;32m      2\u001b[0m     \u001b[0my\u001b[0m \u001b[0;34m=\u001b[0m \u001b[0;34m\"local\"\u001b[0m\u001b[0;34m\u001b[0m\u001b[0;34m\u001b[0m\u001b[0m\n\u001b[1;32m      3\u001b[0m \u001b[0mfoo\u001b[0m\u001b[0;34m(\u001b[0m\u001b[0;34m)\u001b[0m\u001b[0;34m\u001b[0m\u001b[0;34m\u001b[0m\u001b[0m\n\u001b[0;32m----> 4\u001b[0;31m \u001b[0mprint\u001b[0m\u001b[0;34m(\u001b[0m\u001b[0my\u001b[0m\u001b[0;34m)\u001b[0m     \u001b[0;31m#error because we are trying to access the local variable as global\u001b[0m\u001b[0;34m\u001b[0m\u001b[0;34m\u001b[0m\u001b[0m\n\u001b[0m",
            "\u001b[0;31mNameError\u001b[0m: name 'y' is not defined"
          ]
        }
      ]
    },
    {
      "cell_type": "code",
      "metadata": {
        "colab": {
          "base_uri": "https://localhost:8080/"
        },
        "id": "SzvafPtOelHU",
        "outputId": "ece299e3-f730-4181-af0d-f05636db668e"
      },
      "source": [
        "def foo():\n",
        "    y = \"local\"\n",
        "    print(y)\n",
        "foo()"
      ],
      "execution_count": 5,
      "outputs": [
        {
          "output_type": "stream",
          "name": "stdout",
          "text": [
            "local\n"
          ]
        }
      ]
    },
    {
      "cell_type": "code",
      "metadata": {
        "colab": {
          "base_uri": "https://localhost:8080/"
        },
        "id": "1t_2IAZMetfj",
        "outputId": "faea4573-535c-498e-b0c0-873912831075"
      },
      "source": [
        "x = \"global \"\n",
        "def foo():\n",
        "    global x\n",
        "    y = \"local\"\n",
        "    x = x * 2\n",
        "    print(x)\n",
        "    print(y)\n",
        "foo()"
      ],
      "execution_count": 6,
      "outputs": [
        {
          "output_type": "stream",
          "name": "stdout",
          "text": [
            "global global \n",
            "local\n"
          ]
        }
      ]
    },
    {
      "cell_type": "code",
      "metadata": {
        "colab": {
          "base_uri": "https://localhost:8080/"
        },
        "id": "jgyjWM5uezsE",
        "outputId": "b71d5402-e599-4145-aaae-7dc1a7180f3d"
      },
      "source": [
        "x = 5\n",
        "def foo():\n",
        "    x = 10\n",
        "    print(\"local x:\", x)\n",
        "foo()\n",
        "print(\"global x:\", x)"
      ],
      "execution_count": 7,
      "outputs": [
        {
          "output_type": "stream",
          "name": "stdout",
          "text": [
            "local x: 10\n",
            "global x: 5\n"
          ]
        }
      ]
    },
    {
      "cell_type": "code",
      "metadata": {
        "colab": {
          "base_uri": "https://localhost:8080/"
        },
        "id": "RYkJtkd-e46m",
        "outputId": "d16e4ed3-c885-4529-9694-10467efaf843"
      },
      "source": [
        "def outer():\n",
        "    x = \"local\"\n",
        "    def inner():\n",
        "        nonlocal x\n",
        "        x = \"nonlocal\"\n",
        "        print(\"inner:\", x)\n",
        "    inner()\n",
        "    print(\"outer:\", x)\n",
        "outer()"
      ],
      "execution_count": 8,
      "outputs": [
        {
          "output_type": "stream",
          "name": "stdout",
          "text": [
            "inner: nonlocal\n",
            "outer: nonlocal\n"
          ]
        }
      ]
    }
  ]
}