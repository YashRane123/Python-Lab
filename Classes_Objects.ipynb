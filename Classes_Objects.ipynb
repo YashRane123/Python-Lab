{
  "nbformat": 4,
  "nbformat_minor": 0,
  "metadata": {
    "colab": {
      "name": "Classes_Objects.ipynb",
      "provenance": []
    },
    "kernelspec": {
      "name": "python3",
      "display_name": "Python 3"
    },
    "language_info": {
      "name": "python"
    }
  },
  "cells": [
    {
      "cell_type": "code",
      "metadata": {
        "colab": {
          "base_uri": "https://localhost:8080/"
        },
        "id": "FE19RuCdfINv",
        "outputId": "fd851c36-89c4-4254-a82e-aebe5b67725c"
      },
      "source": [
        "class myclass:\n",
        "  x =5\n",
        "p=myclass()\n",
        "print(p.x)"
      ],
      "execution_count": 3,
      "outputs": [
        {
          "output_type": "stream",
          "name": "stdout",
          "text": [
            "5\n"
          ]
        }
      ]
    },
    {
      "cell_type": "code",
      "metadata": {
        "colab": {
          "base_uri": "https://localhost:8080/"
        },
        "id": "jN8ycxDPfrKb",
        "outputId": "4e2983e8-cae3-4356-d78c-0f5a159b406c"
      },
      "source": [
        "class Person:\n",
        "  def __init__(self, name, age):\n",
        "    self.name = name\n",
        "    self.age = age\n",
        "p1 = Person(\"Yash\", 19)\n",
        "print(p1.name)\n",
        "print(p1.age)"
      ],
      "execution_count": 6,
      "outputs": [
        {
          "output_type": "stream",
          "name": "stdout",
          "text": [
            "Yash\n",
            "19\n"
          ]
        }
      ]
    },
    {
      "cell_type": "code",
      "metadata": {
        "colab": {
          "base_uri": "https://localhost:8080/"
        },
        "id": "Y2fsSgzigWeJ",
        "outputId": "8a39a070-70b4-45ce-cc71-6c2d7e1f56c9"
      },
      "source": [
        "class Person:\n",
        "  def __init__(self,name,age):\n",
        "    self.name = name\n",
        "    self.age = age\n",
        "  def func(self):\n",
        "    print(\"Hello my name is \"+self.name)\n",
        "p=Person(\"Yash\",19)\n",
        "p.func()"
      ],
      "execution_count": 7,
      "outputs": [
        {
          "output_type": "stream",
          "name": "stdout",
          "text": [
            "Hello my name is Yash\n"
          ]
        }
      ]
    },
    {
      "cell_type": "code",
      "metadata": {
        "colab": {
          "base_uri": "https://localhost:8080/"
        },
        "id": "lCUBrXeohBG4",
        "outputId": "7befcda7-31f7-4d7a-dce3-7078ec93bb3f"
      },
      "source": [
        "class Person:\n",
        "  def __init__(myobject, name, age):\n",
        "    myobject.name = name\n",
        "    myobject.age = age\n",
        "  def myfunc(abc):\n",
        "    print(\"Hello my name is \" + abc.name)\n",
        "p1 = Person(\"Johny\", 36)\n",
        "p1.myfunc()"
      ],
      "execution_count": 9,
      "outputs": [
        {
          "output_type": "stream",
          "name": "stdout",
          "text": [
            "Hello my name is Johny\n"
          ]
        }
      ]
    },
    {
      "cell_type": "code",
      "metadata": {
        "id": "5eJ7idOVhO6u"
      },
      "source": [
        ""
      ],
      "execution_count": null,
      "outputs": []
    }
  ]
}