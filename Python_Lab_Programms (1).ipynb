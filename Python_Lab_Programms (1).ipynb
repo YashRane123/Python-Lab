{
  "nbformat": 4,
  "nbformat_minor": 0,
  "metadata": {
    "colab": {
      "name": "Python_Lab_Programms.ipynb",
      "provenance": [],
      "collapsed_sections": []
    },
    "kernelspec": {
      "name": "python3",
      "display_name": "Python 3"
    },
    "language_info": {
      "name": "python"
    }
  },
  "cells": [
    {
      "cell_type": "code",
      "metadata": {
        "colab": {
          "base_uri": "https://localhost:8080/"
        },
        "id": "iO6hubUnlkg3",
        "outputId": "d0127bf6-0e27-4b77-a1ed-a56cc57c6ae1"
      },
      "source": [
        "#program 1\n",
        "a = float(input(\"Enter the first number: \"))\n",
        "b = float(input(\"enter the second number: \"))\n",
        "c = \"{:.2f}\".format(a)\n",
        "d = \"{:.2f}\".format(b)\n",
        "print(c)\n",
        "print(d)"
      ],
      "execution_count": null,
      "outputs": [
        {
          "output_type": "stream",
          "name": "stdout",
          "text": [
            "Enter the first number: 25\n",
            "enter the second number: 62\n",
            "25.00\n",
            "62.00\n"
          ]
        }
      ]
    },
    {
      "cell_type": "code",
      "metadata": {
        "colab": {
          "base_uri": "https://localhost:8080/"
        },
        "id": "Huy_1kKCmBf1",
        "outputId": "5ef3e89c-aa9c-405b-986d-9d98f9ab09fa"
      },
      "source": [
        "#program 2\n",
        "a = int(input(\"Enter the first number: \"))\n",
        "b = int(input(\"Enter the second number: \"))\n",
        "\n",
        "print(a * b)"
      ],
      "execution_count": null,
      "outputs": [
        {
          "output_type": "stream",
          "name": "stdout",
          "text": [
            "Enter the first number: 5\n",
            "Enter the second number: 6\n",
            "30\n"
          ]
        }
      ]
    },
    {
      "cell_type": "code",
      "metadata": {
        "colab": {
          "base_uri": "https://localhost:8080/"
        },
        "id": "PFwE2TIVmHo7",
        "outputId": "0afb0186-5395-4242-e5e6-0b88f7d7cfde"
      },
      "source": [
        "#program 3\n",
        "r = 10\n",
        "v = (4 * 22 * r * r * r)/(3 * 7)\n",
        "\n",
        "print(\"Volume of the sphere = \",v )"
      ],
      "execution_count": null,
      "outputs": [
        {
          "output_type": "stream",
          "name": "stdout",
          "text": [
            "Volume of the sphere =  4190.476190476191\n"
          ]
        }
      ]
    },
    {
      "cell_type": "code",
      "metadata": {
        "colab": {
          "base_uri": "https://localhost:8080/"
        },
        "id": "WPyIeqBomMNT",
        "outputId": "5538ac74-ed90-48df-8dd3-7b5020991ee4"
      },
      "source": [
        "#program 4\n",
        "a = int(input(\"Enter the first number: \"))\n",
        "b = int(input(\"Enter the second number: \"))\n",
        "\n",
        "print(a * b)"
      ],
      "execution_count": null,
      "outputs": [
        {
          "output_type": "stream",
          "name": "stdout",
          "text": [
            "Enter the first number: 25\n",
            "Enter the second number: 2\n",
            "50\n"
          ]
        }
      ]
    },
    {
      "cell_type": "code",
      "metadata": {
        "colab": {
          "base_uri": "https://localhost:8080/"
        },
        "id": "DPxuRM7NmYYS",
        "outputId": "adb08489-8701-4c15-f762-f46e136e7196"
      },
      "source": [
        "#program 5\n",
        "a = int(input(\"Enter the value: \"))\n",
        "b = a + (a*a) + (a*a*a)\n",
        "print(\"The valu of a+aa+aaa= \",b)"
      ],
      "execution_count": null,
      "outputs": [
        {
          "output_type": "stream",
          "name": "stdout",
          "text": [
            "Enter the value: 5\n",
            "The valu of a+aa+aaa=  155\n"
          ]
        }
      ]
    },
    {
      "cell_type": "code",
      "metadata": {
        "colab": {
          "base_uri": "https://localhost:8080/"
        },
        "id": "uSVoAHyDmewq",
        "outputId": "9b656fdf-672c-49dd-e8ce-ebb6653e376f"
      },
      "source": [
        "#program 6\n",
        "string = str(input(\"Enter the string: \"))\n",
        "string = len(string)\n",
        "print(\"The length of string is \",string)"
      ],
      "execution_count": null,
      "outputs": [
        {
          "output_type": "stream",
          "name": "stdout",
          "text": [
            "Enter the string: computer\n",
            "The length of string is  8\n"
          ]
        }
      ]
    },
    {
      "cell_type": "code",
      "metadata": {
        "colab": {
          "base_uri": "https://localhost:8080/"
        },
        "id": "jruQTexUmlMC",
        "outputId": "41f1d983-dd6f-4ae2-9a44-17f37fa74857"
      },
      "source": [
        "#program 7\n",
        "salary = \"45000\"\n",
        "\n",
        "sal = int(salary)\n",
        "\n",
        "#print type\n",
        "print(type(sal))\n",
        "\n",
        "#print the value\n",
        "print(sal)\n"
      ],
      "execution_count": null,
      "outputs": [
        {
          "output_type": "stream",
          "name": "stdout",
          "text": [
            "<class 'int'>\n",
            "45000\n"
          ]
        }
      ]
    },
    {
      "cell_type": "code",
      "metadata": {
        "colab": {
          "base_uri": "https://localhost:8080/"
        },
        "id": "NfUIOnmSmy2h",
        "outputId": "093b4ce6-e180-4ff7-f355-1825b8235ba5"
      },
      "source": [
        "#Program 7 \n",
        "salary = \"45000\"\n",
        "sal = float(salary)\n",
        "print(type(sal))\n",
        "print(sal)"
      ],
      "execution_count": null,
      "outputs": [
        {
          "output_type": "stream",
          "name": "stdout",
          "text": [
            "<class 'float'>\n",
            "45000.0\n"
          ]
        }
      ]
    },
    {
      "cell_type": "code",
      "metadata": {
        "colab": {
          "base_uri": "https://localhost:8080/"
        },
        "id": "6UbSYMU2m4lI",
        "outputId": "f47ebc7d-5475-4351-ee7f-6beb6618c5f4"
      },
      "source": [
        "#Program 8\n",
        "a = int(input(\"enter the first number: \"))\n",
        "b = int(input(\"enter the second number: \"))\n",
        "\n",
        "c = a+b\n",
        "print(c)\n",
        "\n",
        "if(c > 100):\n",
        "  print(a*b)\n"
      ],
      "execution_count": null,
      "outputs": [
        {
          "output_type": "stream",
          "name": "stdout",
          "text": [
            "enter the first number: 50\n",
            "enter the second number: 60\n",
            "110\n",
            "3000\n"
          ]
        }
      ]
    },
    {
      "cell_type": "code",
      "metadata": {
        "colab": {
          "base_uri": "https://localhost:8080/"
        },
        "id": "_b7-yaBtnGBK",
        "outputId": "25188270-ca5e-458b-f05d-1a7e833f8c5d"
      },
      "source": [
        "#Program 9\n",
        "a = int(input(\"Enter the first number: \"))\n",
        "b = int(input(\"Enter the second number: \"))\n",
        "c = int(input(\"Enter the third number: \"))\n",
        "\n",
        "d = a + b + c\n",
        "print(d)\n",
        "\n",
        "if(a != b != c):\n",
        "  print(4*d)"
      ],
      "execution_count": null,
      "outputs": [
        {
          "output_type": "stream",
          "name": "stdout",
          "text": [
            "Enter the first number: 1\n",
            "Enter the second number: 2\n",
            "Enter the third number: 3\n",
            "6\n",
            "24\n"
          ]
        }
      ]
    },
    {
      "cell_type": "code",
      "metadata": {
        "colab": {
          "base_uri": "https://localhost:8080/"
        },
        "id": "Vch72AApnNx3",
        "outputId": "a4fa7939-2f65-4edf-d3ff-536325f58ba9"
      },
      "source": [
        "#Program 10\n",
        "quantity = int(input(\"Enter the quantity : \"))\n",
        "print(\"Cost of 1 unit = 100\")\n",
        "price = quantity *100\n",
        "if(quantity > 10000):\n",
        "  cost = float(price *50/100)\n",
        "  print(\"The total cost = \",cost)\n",
        "else:\n",
        "  print(\"The total cost = \",price)"
      ],
      "execution_count": null,
      "outputs": [
        {
          "output_type": "stream",
          "name": "stdout",
          "text": [
            "Enter the quantity : 25256\n",
            "Cost of 1 unit = 100\n",
            "The total cost =  1262800.0\n"
          ]
        }
      ]
    },
    {
      "cell_type": "code",
      "metadata": {
        "colab": {
          "base_uri": "https://localhost:8080/"
        },
        "id": "FX6y8qFencEP",
        "outputId": "ebfd5b02-ad1c-4da1-adec-73ce9fef2565"
      },
      "source": [
        "#Program 11 (divisible 8)\n",
        "a = int(input(\"Enter the number: \"))\n",
        "if ( a % 8 ==0 ):\n",
        "  print(\"The number is divisible by 8\")\n",
        "\n",
        "else:\n",
        "  print(\"The number is not divisible by 8\")\n"
      ],
      "execution_count": null,
      "outputs": [
        {
          "output_type": "stream",
          "name": "stdout",
          "text": [
            "Enter the number: 56\n",
            "The number is divisible by 8\n"
          ]
        }
      ]
    },
    {
      "cell_type": "code",
      "metadata": {
        "colab": {
          "base_uri": "https://localhost:8080/"
        },
        "id": "Pe6NHy1gnlWf",
        "outputId": "b004ff88-1b6a-4b65-e5d4-5ecc6f4c3e43"
      },
      "source": [
        "#Program 11(divisible by 12)\n",
        "b = int(input(\"Enter the number: \"))\n",
        "if ( b % 12 ==0 ):\n",
        "  print(\"The number is divisible by 12\")\n",
        "\n",
        "else:\n",
        "  print(\"The number is not divisible by 12\")"
      ],
      "execution_count": null,
      "outputs": [
        {
          "output_type": "stream",
          "name": "stdout",
          "text": [
            "Enter the number: 56\n",
            "The number is not divisible by 12\n"
          ]
        }
      ]
    },
    {
      "cell_type": "code",
      "metadata": {
        "colab": {
          "base_uri": "https://localhost:8080/"
        },
        "id": "RxZNd6qjnr--",
        "outputId": "84910710-959c-4c04-b7aa-94383672d8fc"
      },
      "source": [
        "#Program 12\n",
        "a = int(input(\"Enter the number: \"))\n",
        "if(a %2 == 0):\n",
        "  print(\"The number is even\")\n",
        "else:\n",
        "  print(\"The number is odd\")"
      ],
      "execution_count": null,
      "outputs": [
        {
          "output_type": "stream",
          "name": "stdout",
          "text": [
            "Enter the number: 13\n",
            "The number is odd\n"
          ]
        }
      ]
    },
    {
      "cell_type": "code",
      "metadata": {
        "colab": {
          "base_uri": "https://localhost:8080/"
        },
        "id": "7YA8j62cnwNW",
        "outputId": "a408192a-57e4-4d9f-b411-86cd094c78c9"
      },
      "source": [
        "#Program 13\n",
        "phy = int(input(\"Enter the marks of physics out of 100: \"))\n",
        "chem = int(input(\"Enter the marks of chemistry out of 100: \"))\n",
        "mt = int(input(\"Enter the marks of maths out of 100: \"))\n",
        "bio = int(input(\"Enter the marks of biology out of 100: \"))\n",
        "comp = int(input(\"Enter the marks of computer out of 100: \"))\n",
        "\n",
        "per = (phy + chem + mt + bio + comp)/500 * 100\n",
        "\n",
        "print(\"percentage = \",float(per))\n",
        "if(per >= 90):\n",
        "  print(\"Grade A\")\n",
        "elif(per >= 80):\n",
        "  print(\"Grade B\")\n",
        "elif(per >= 70):\n",
        "  print(\"Grade C\")\n",
        "elif(per >= 60):\n",
        "  print(\"Grade D\")\n",
        "elif(per >= 50):\n",
        "  print(\"Grade E\")\n",
        "else:\n",
        "  print(\"Grade F\")\n"
      ],
      "execution_count": null,
      "outputs": [
        {
          "output_type": "stream",
          "name": "stdout",
          "text": [
            "Enter the marks of physics out of 100: 85\n",
            "Enter the marks of chemistry out of 100: 65\n",
            "Enter the marks of maths out of 100: 94\n",
            "Enter the marks of biology out of 100: 56\n",
            "Enter the marks of computer out of 100: 80\n",
            "percentage =  76.0\n",
            "Grade C\n"
          ]
        }
      ]
    },
    {
      "cell_type": "code",
      "metadata": {
        "colab": {
          "base_uri": "https://localhost:8080/"
        },
        "id": "VIKsh5Gvn8wG",
        "outputId": "cdc0c668-57f6-4da3-aa44-865642ace0ae"
      },
      "source": [
        "#Program 14\n",
        "a = int(input(\"enter the age of first person: \"))\n",
        "b = int(input(\"enter the age of second person: \"))\n",
        "c = int(input(\"enter the age of third person: \"))\n",
        "if(a > b and a >c):\n",
        "  print(\"first person is older\")\n",
        "elif(b > a and b >c):\n",
        "  print(\"second person is older\")\n",
        "elif(c > a and c >b):\n",
        "  print(\"third person is older\")\n",
        "else:\n",
        "  print(\"All are of equal age\")"
      ],
      "execution_count": null,
      "outputs": [
        {
          "output_type": "stream",
          "name": "stdout",
          "text": [
            "enter the age of first person: 56\n",
            "enter the age of second person: 68\n",
            "enter the age of third person: 12\n",
            "second person is older\n"
          ]
        }
      ]
    },
    {
      "cell_type": "code",
      "metadata": {
        "colab": {
          "base_uri": "https://localhost:8080/"
        },
        "id": "t-DJ9zBCoSPU",
        "outputId": "6c342224-4511-44a6-9561-95b9649b5740"
      },
      "source": [
        "#Program 15\n",
        "n = int(input(\"enter the electicity units: \"))\n",
        "charge = float(20/100)\n",
        "if(n<=50):\n",
        "  bill = 0.50*n+charge\n",
        "elif(n>50 and n<=150):\n",
        "  bill = 0.75*n + charge\n",
        "elif(n>150 and n<=250):\n",
        "  bill = 1.20*n + charge\n",
        "else:\n",
        "  bill = 1.50*n + charge\n",
        "print(\"Bill = \",float(bill))"
      ],
      "execution_count": null,
      "outputs": [
        {
          "output_type": "stream",
          "name": "stdout",
          "text": [
            "enter the electicity units: 251\n",
            "Bill =  376.7\n"
          ]
        }
      ]
    },
    {
      "cell_type": "code",
      "metadata": {
        "colab": {
          "base_uri": "https://localhost:8080/"
        },
        "id": "a0scugFDpcHy",
        "outputId": "cf977139-b488-4376-e246-15bcc52452e5"
      },
      "source": [
        "#Program 16\n",
        "attendance = int(input(\"Enter the attendance of student in percentage: \"))\n",
        "if(attendance >= 80):\n",
        "  print(\"Student will be allowed to give exams\")\n",
        "else:\n",
        "  print(\"student will not be allowed to give exams\")"
      ],
      "execution_count": null,
      "outputs": [
        {
          "output_type": "stream",
          "name": "stdout",
          "text": [
            "Enter the attendance of student in percentage: 80\n",
            "Student will be allowed to give exams\n"
          ]
        }
      ]
    },
    {
      "cell_type": "code",
      "metadata": {
        "id": "pi-_UjAqpudY"
      },
      "source": [
        "#Program 17\n"
      ],
      "execution_count": null,
      "outputs": []
    },
    {
      "cell_type": "code",
      "metadata": {
        "colab": {
          "base_uri": "https://localhost:8080/"
        },
        "id": "61s3vV7Dp2ko",
        "outputId": "be5f2521-17b1-479d-aa45-ca6b32b0d57c"
      },
      "source": [
        "#Program 18\n",
        "n = int(input(\"enter the number: \"))\n",
        "sum = 0\n",
        "while(n > 0):\n",
        "  rem = n % 10\n",
        "  sum = sum + rem\n",
        "  n = n//10\n",
        "\n",
        "print(\"The digital sum of is = \",int(sum))"
      ],
      "execution_count": null,
      "outputs": [
        {
          "output_type": "stream",
          "name": "stdout",
          "text": [
            "enter the number: 1252\n",
            "The digital sum of is =  10\n"
          ]
        }
      ]
    },
    {
      "cell_type": "code",
      "metadata": {
        "colab": {
          "base_uri": "https://localhost:8080/"
        },
        "id": "lnbPjFrqp_X_",
        "outputId": "c9c18c42-5b1c-4af9-b575-216d850ecac0"
      },
      "source": [
        "#Program 19\n",
        "n = int(input(\"Enter the number: \"))\n",
        "prod= 1\n",
        "\n",
        "while(n > 0):\n",
        "  prod = prod * (n%10)\n",
        "  n = n//10\n",
        "print(\"The digital product is = \",prod)"
      ],
      "execution_count": null,
      "outputs": [
        {
          "output_type": "stream",
          "name": "stdout",
          "text": [
            "Enter the number: 555\n",
            "The digital product is =  125\n"
          ]
        }
      ]
    },
    {
      "cell_type": "code",
      "metadata": {
        "colab": {
          "base_uri": "https://localhost:8080/"
        },
        "id": "D3gr4hc76vHw",
        "outputId": "ef853331-ad9f-469a-ea43-76d3961fd51b"
      },
      "source": [
        "#Program 20\n",
        "n = int(input(\"Enter the value of n: \"))\n",
        "x= 3\n",
        "sum = 0\n",
        "for i in range(0,n):\n",
        "  sum = sum + x\n",
        "  x = (x*10)+3\n",
        "print(\"The sum of the series= \",sum)"
      ],
      "execution_count": null,
      "outputs": [
        {
          "output_type": "stream",
          "name": "stdout",
          "text": [
            "Enter the value of n: 4\n",
            "The sum of the series=  3702\n"
          ]
        }
      ]
    },
    {
      "cell_type": "code",
      "metadata": {
        "colab": {
          "base_uri": "https://localhost:8080/"
        },
        "id": "c-9Y1MdC7i-9",
        "outputId": "fbe6bd56-405f-4262-bf51-8fae84184346"
      },
      "source": [
        "#Program 21\n",
        "row = int(input(\"Enter the number of rows: \"))\n",
        "for i in range(row):\n",
        "  for j in range(0,i+1):\n",
        "    print(\"*\",end=\"\")\n",
        "  print(\"\\n\")\n",
        "for i in range(row+1,0,-1):\n",
        "  for j in range(0,i-1):\n",
        "    print(\"*\",end=\"\")\n",
        "  print(\"\\n\")"
      ],
      "execution_count": null,
      "outputs": [
        {
          "output_type": "stream",
          "name": "stdout",
          "text": [
            "Enter the number of rows: 5\n",
            "*\n",
            "\n",
            "**\n",
            "\n",
            "***\n",
            "\n",
            "****\n",
            "\n",
            "*****\n",
            "\n",
            "*****\n",
            "\n",
            "****\n",
            "\n",
            "***\n",
            "\n",
            "**\n",
            "\n",
            "*\n",
            "\n",
            "\n",
            "\n"
          ]
        }
      ]
    },
    {
      "cell_type": "code",
      "metadata": {
        "colab": {
          "base_uri": "https://localhost:8080/"
        },
        "id": "csfTOsvUF77P",
        "outputId": "a6ab458d-7b10-4938-e770-d0a45299b299"
      },
      "source": [
        "#Program 22\n",
        "n = int(input(\"Enter a number: \"))\n",
        "rev = 0\n",
        "while(n != 0):\n",
        "  rem = n%10\n",
        "  rev = rev*10 + rem\n",
        "  n = n//10\n",
        "print(\"The reversed number is \",rev)"
      ],
      "execution_count": null,
      "outputs": [
        {
          "output_type": "stream",
          "name": "stdout",
          "text": [
            "Enter a number: 123\n",
            "The reversed number is  321\n"
          ]
        }
      ]
    },
    {
      "cell_type": "code",
      "metadata": {
        "colab": {
          "base_uri": "https://localhost:8080/"
        },
        "id": "1tB949qKGFWE",
        "outputId": "1acacbfc-4b81-41ca-f9c5-74a4fe19afa1"
      },
      "source": [
        "#Program 23\n",
        "n = int(input(\"Enter the number: \"))\n",
        "x = n\n",
        "rev = 0\n",
        "while(n != 0):\n",
        "  dig = n % 10\n",
        "  rev = rev*10 + dig\n",
        "  n = n//10\n",
        "if(x == rev):\n",
        "  print(\"The number is palindrome\")\n",
        "else:\n",
        "  print(\"The number is not a palindrome\")"
      ],
      "execution_count": null,
      "outputs": [
        {
          "output_type": "stream",
          "name": "stdout",
          "text": [
            "Enter the number: 434\n",
            "The number is palindrome\n"
          ]
        }
      ]
    },
    {
      "cell_type": "code",
      "metadata": {
        "colab": {
          "base_uri": "https://localhost:8080/"
        },
        "id": "QCN-XER7IEEW",
        "outputId": "dd9711ac-a94b-4189-b9ee-defcb72c48e0"
      },
      "source": [
        "#Program 24\n",
        "n = int(input(\"Enter the number: \"))\n",
        "# x = n\n",
        "sum = 0\n",
        "while(n != 0):\n",
        "  dig = n%10\n",
        "  sum = sum + (dig**3)\n",
        "  n = n//10\n",
        "if(n == sum):\n",
        "  print(\"The number is an armstrong number \")\n",
        "else:\n",
        "  print(\"The number is not an armstrong number \")\n"
      ],
      "execution_count": null,
      "outputs": [
        {
          "output_type": "stream",
          "name": "stdout",
          "text": [
            "Enter the number: 153\n",
            "The number is not an armstrong number \n"
          ]
        }
      ]
    },
    {
      "cell_type": "code",
      "metadata": {
        "colab": {
          "base_uri": "https://localhost:8080/"
        },
        "id": "s-FT5jAMYYdK",
        "outputId": "3652bdaa-5c5f-4279-f9b6-0342afe26cb3"
      },
      "source": [
        "#Program 25\n",
        "n = int(input(\"Enter the number: \"))\n",
        "fact = 1\n",
        "for i in range(1,n+1):\n",
        "  fact = fact * i\n",
        "print(\"The factorial of the number = \",fact)"
      ],
      "execution_count": null,
      "outputs": [
        {
          "output_type": "stream",
          "name": "stdout",
          "text": [
            "Enter the number: 5\n",
            "The factorial of the number =  120\n"
          ]
        }
      ]
    },
    {
      "cell_type": "code",
      "metadata": {
        "colab": {
          "base_uri": "https://localhost:8080/"
        },
        "id": "aVEmCNuaZgGE",
        "outputId": "f2633aba-5003-47b2-8af6-d90404c21ae3"
      },
      "source": [
        "#Program 26\n",
        "n = int(input(\"Enter the number: \"))\n",
        "x = n\n",
        "sum=0\n",
        "\n",
        "while(n):\n",
        "  i=1\n",
        "  fact = 1\n",
        "  dig = n%10\n",
        "  while(i<=dig):\n",
        "    fact=fact*i\n",
        "    i = i+1\n",
        "  sum = sum + fact\n",
        "  n = n//10\n",
        "  \n",
        "if(x==sum):\n",
        "  print(\"The number is a strong number \")\n",
        "else:\n",
        "  print(\"The number is not a strong number\")"
      ],
      "execution_count": null,
      "outputs": [
        {
          "output_type": "stream",
          "name": "stdout",
          "text": [
            "Enter the number: 145\n",
            "The number is a strong number \n"
          ]
        }
      ]
    },
    {
      "cell_type": "code",
      "metadata": {
        "id": "phrhiydpdpWo"
      },
      "source": [
        "#Program 27\n"
      ],
      "execution_count": null,
      "outputs": []
    },
    {
      "cell_type": "code",
      "metadata": {
        "id": "-6shnq0demCd",
        "colab": {
          "base_uri": "https://localhost:8080/"
        },
        "outputId": "bb7a75cb-119c-4883-b62c-6458631e45db"
      },
      "source": [
        "#Program 28\n",
        "n= int(input(\"Enter the number: \"))\n",
        "sum = 0\n",
        "for i in range (1,n):\n",
        "  rem = n % i\n",
        "  if(rem == 0):\n",
        "    sum = sum + i\n",
        "if(sum == n):\n",
        "  print(\"The given number is perfect number\")\n",
        "else:\n",
        "  print(\"The given number is not a perfect number\")"
      ],
      "execution_count": null,
      "outputs": [
        {
          "output_type": "stream",
          "name": "stdout",
          "text": [
            "Enter the number: 36\n",
            "The given number is not a perfect number\n"
          ]
        }
      ]
    },
    {
      "cell_type": "code",
      "metadata": {
        "colab": {
          "base_uri": "https://localhost:8080/"
        },
        "id": "IbpWiTOtf_UZ",
        "outputId": "8a5d500a-5161-4cbe-8a41-4335fda26914"
      },
      "source": [
        "#Program 29\n",
        "n =int(input(\"Enter the number: \"))\n",
        "flag=0\n",
        "for i in range(2,n):\n",
        "  if(n%i==0):\n",
        "    flag=1\n",
        "if flag==1:\n",
        "  print(\"The given number is not prime\")\n",
        "else:\n",
        "  print(\"The given number is prime\")"
      ],
      "execution_count": null,
      "outputs": [
        {
          "output_type": "stream",
          "name": "stdout",
          "text": [
            "Enter the number: 73\n",
            "The given number is prime\n"
          ]
        }
      ]
    },
    {
      "cell_type": "code",
      "metadata": {
        "colab": {
          "base_uri": "https://localhost:8080/"
        },
        "id": "5RrqLvKho3Su",
        "outputId": "5ff9c78b-4759-40bb-e8fe-1377937b3765"
      },
      "source": [
        "#Program 30\n",
        "row = int(input(\"Enter the number of rows: \"))\n",
        "for i in range(row+1,0,-1):\n",
        "  for j in range(0,i-1):\n",
        "    print(\"*\",end=\"\")\n",
        "  print(\"\\n\")\n"
      ],
      "execution_count": null,
      "outputs": [
        {
          "output_type": "stream",
          "name": "stdout",
          "text": [
            "Enter the number of rows: 5\n",
            "*****\n",
            "\n",
            "****\n",
            "\n",
            "***\n",
            "\n",
            "**\n",
            "\n",
            "*\n",
            "\n",
            "\n",
            "\n"
          ]
        }
      ]
    },
    {
      "cell_type": "code",
      "metadata": {
        "colab": {
          "base_uri": "https://localhost:8080/"
        },
        "id": "8wI9fvVCpZ1k",
        "outputId": "fc2b3de9-fd5a-4563-9ead-c8ca8217c0dd"
      },
      "source": [
        "#Program 31\n",
        "row = int(input(\"Enter the number of rows: \"))\n",
        "for i in range(row):\n",
        "  for j in range(0,i+1):\n",
        "    print(i+1,end=\"\" )\n",
        "  print(\"\\n\")"
      ],
      "execution_count": null,
      "outputs": [
        {
          "output_type": "stream",
          "name": "stdout",
          "text": [
            "Enter the number of rows: 9\n",
            "1\n",
            "\n",
            "22\n",
            "\n",
            "333\n",
            "\n",
            "4444\n",
            "\n",
            "55555\n",
            "\n",
            "666666\n",
            "\n",
            "7777777\n",
            "\n",
            "88888888\n",
            "\n",
            "999999999\n",
            "\n"
          ]
        }
      ]
    },
    {
      "cell_type": "code",
      "metadata": {
        "colab": {
          "base_uri": "https://localhost:8080/"
        },
        "id": "pakZmCdLqF2S",
        "outputId": "87f2cee5-b325-4f87-c0b8-677a5708a16e"
      },
      "source": [
        "#Program 32\n",
        "row = int(input(\"Enter the number of rows: \"))\n",
        "for i in range(row):\n",
        "  for j in range(0,i+1):\n",
        "    print(j+1,end=\"\" )\n",
        "  print(\"\\n\")"
      ],
      "execution_count": null,
      "outputs": [
        {
          "output_type": "stream",
          "name": "stdout",
          "text": [
            "Enter the number of rows: 9\n",
            "1\n",
            "\n",
            "12\n",
            "\n",
            "123\n",
            "\n",
            "1234\n",
            "\n",
            "12345\n",
            "\n",
            "123456\n",
            "\n",
            "1234567\n",
            "\n",
            "12345678\n",
            "\n",
            "123456789\n",
            "\n"
          ]
        }
      ]
    },
    {
      "cell_type": "code",
      "metadata": {
        "id": "liN1EYb88DaQ"
      },
      "source": [
        "#Program 33"
      ],
      "execution_count": null,
      "outputs": []
    },
    {
      "cell_type": "code",
      "metadata": {
        "colab": {
          "base_uri": "https://localhost:8080/"
        },
        "id": "nUIQ8OsC8F_W",
        "outputId": "b6d3df1e-2338-44c7-9fce-f40787c40f26"
      },
      "source": [
        "#Program 34\n",
        "string = str(input(\"Enter the string: \"))\n",
        "string = len(string)\n",
        "print(\"The length of string is \",string)"
      ],
      "execution_count": null,
      "outputs": [
        {
          "output_type": "stream",
          "name": "stdout",
          "text": [
            "Enter the string: acropolis\n",
            "The length of string is  9\n"
          ]
        }
      ]
    },
    {
      "cell_type": "code",
      "metadata": {
        "colab": {
          "base_uri": "https://localhost:8080/"
        },
        "id": "fsA223Mq8Lbe",
        "outputId": "4ac8ec7b-cf4f-4954-958c-1702c4672f04"
      },
      "source": [
        "#Program 35\n",
        "str1 = str(input(\"Enter the first string: \"))\n",
        "str2 = str(input(\"Enter the second string: \"))\n",
        "x = str1[0:1]\n",
        "str1=str1.replace(str1[0:1],str2[0:1])\n",
        "str2 = str2.replace(str2[0:1],x)\n",
        "print(\"The first string = \",str1)\n",
        "print(\"The second string= \",str2)"
      ],
      "execution_count": null,
      "outputs": [
        {
          "output_type": "stream",
          "name": "stdout",
          "text": [
            "Enter the first string: abc\n",
            "Enter the second string: xyz\n",
            "The first string =  xbc\n",
            "The second string=  ayz\n"
          ]
        }
      ]
    },
    {
      "cell_type": "code",
      "metadata": {
        "colab": {
          "base_uri": "https://localhost:8080/"
        },
        "id": "jC0DhAsD-MP6",
        "outputId": "b95b9030-ef09-44c5-bf02-b99f6db38fe5"
      },
      "source": [
        "#Program 36\n",
        "str1 = str(input(\"Enter a string: \"))\n",
        "x = len(str1)\n",
        "if x >= 3:\n",
        "  if str1.endswith(\"polis\"):\n",
        "    print(str1+'CS')\n",
        "  else:\n",
        "    print(str1 + 'polisCS')\n",
        "else:\n",
        "  print(str1)"
      ],
      "execution_count": null,
      "outputs": [
        {
          "output_type": "stream",
          "name": "stdout",
          "text": [
            "Enter a string: abc\n",
            "abcpolisCS\n"
          ]
        }
      ]
    },
    {
      "cell_type": "code",
      "metadata": {
        "colab": {
          "base_uri": "https://localhost:8080/"
        },
        "id": "r3OSuVuyAXa5",
        "outputId": "5ab190a5-be9f-4a22-b975-fbb7eea2daab"
      },
      "source": [
        "#Program 37\n",
        "str1 = str(input(\"Enter a string: \"))\n",
        "x = str(input(\"Enter the character to be counted: \"))\n",
        "y = str1.count(x)\n",
        "print(\"The number of time\",x,\"occurs is \",y)"
      ],
      "execution_count": null,
      "outputs": [
        {
          "output_type": "stream",
          "name": "stdout",
          "text": [
            "Enter a string: google.com\n",
            "Enter the character to be counted: o\n",
            "The number of time o occurs is  3\n"
          ]
        }
      ]
    },
    {
      "cell_type": "code",
      "metadata": {
        "colab": {
          "base_uri": "https://localhost:8080/"
        },
        "id": "ssT4RWD_FIv7",
        "outputId": "d9d8a6e4-3d78-45d6-a8c0-70f3cec42156"
      },
      "source": [
        "#Program 38\n",
        "s = str(input(\"Enter the string: \"))\n",
        "s1 = s[0] + s[-1] + s[2:-1] + s[1]\n",
        "print(\"The new string will be \",s1)"
      ],
      "execution_count": null,
      "outputs": [
        {
          "output_type": "stream",
          "name": "stdout",
          "text": [
            "Enter the string: computer\n",
            "The new string will be  crmputeo\n"
          ]
        }
      ]
    },
    {
      "cell_type": "code",
      "metadata": {
        "id": "bdHGH7icFynR"
      },
      "source": [
        "#Program 39\n"
      ],
      "execution_count": null,
      "outputs": []
    },
    {
      "cell_type": "code",
      "metadata": {
        "colab": {
          "base_uri": "https://localhost:8080/"
        },
        "id": "kGmu980fGhSP",
        "outputId": "31ee073c-a764-4459-e929-5b4d30aec5d1"
      },
      "source": [
        "#Program 40\n",
        "str1 = str(input(\"Enter the string: \"))\n",
        "x = str1.lower()\n",
        "y = str1.upper()\n",
        "print(\"String in lower case is \",x)\n",
        "print(\"String in upper case is \",y)"
      ],
      "execution_count": null,
      "outputs": [
        {
          "output_type": "stream",
          "name": "stdout",
          "text": [
            "Enter the string: Computer\n",
            "String in lower case is  computer\n",
            "String in upper case is  COMPUTER\n"
          ]
        }
      ]
    },
    {
      "cell_type": "code",
      "metadata": {
        "id": "FUK3W6dcHSGt",
        "colab": {
          "base_uri": "https://localhost:8080/"
        },
        "outputId": "72d1750f-16c3-415a-8bb7-5fccb8f164c7"
      },
      "source": [
        "#Program 41\n",
        "string = str(input(\"Enter a string: \"))\n",
        "x = str(input(\"Enter the substring to be counted: \"))\n",
        "y = string.count(x)\n",
        "print(\"The number of substring\",x,\"ocuured in the string is=\",y)"
      ],
      "execution_count": null,
      "outputs": [
        {
          "output_type": "stream",
          "name": "stdout",
          "text": [
            "Enter a string: My name is yash my hobby is playing cricket\n",
            "Enter the substring to be counted: is\n",
            "The number of substring is ocuured in the string is= 2\n"
          ]
        }
      ]
    },
    {
      "cell_type": "code",
      "metadata": {
        "colab": {
          "base_uri": "https://localhost:8080/"
        },
        "id": "Y1MBcAwcGEUK",
        "outputId": "01ce3be8-00bc-4062-9c8f-423a797419a8"
      },
      "source": [
        "#Program 42 \n",
        "s = str(input(\"Enter a string: \"))\n",
        "n= int(input(\"Enter the no. characters to be lower case: \"))\n",
        "s1 = s[0:n].lower() + s[n:]\n",
        "print(s1)"
      ],
      "execution_count": null,
      "outputs": [
        {
          "output_type": "stream",
          "name": "stdout",
          "text": [
            "Enter a string: COMPUTER\n",
            "Enter the no. characters to be lower case: 3\n",
            "comPUTER\n"
          ]
        }
      ]
    },
    {
      "cell_type": "code",
      "metadata": {
        "colab": {
          "base_uri": "https://localhost:8080/"
        },
        "id": "tGc1_2v2HY7H",
        "outputId": "c0af215f-611d-4a2e-af56-803a844236b0"
      },
      "source": [
        "#Program 43\n",
        "s = str(input(\"Enter the string : \"))\n",
        "s1 = s.replace(\" \",\"\")\n",
        "print(s1)"
      ],
      "execution_count": null,
      "outputs": [
        {
          "output_type": "stream",
          "name": "stdout",
          "text": [
            "Enter the string : hello my name is yash rane\n",
            "hellomynameisyashrane\n"
          ]
        }
      ]
    },
    {
      "cell_type": "code",
      "metadata": {
        "id": "e0TX-9gMId7r"
      },
      "source": [
        "#Program 44\n"
      ],
      "execution_count": null,
      "outputs": []
    },
    {
      "cell_type": "code",
      "metadata": {
        "id": "pZFkmA0eJEsi"
      },
      "source": [
        "#Program 45\n"
      ],
      "execution_count": null,
      "outputs": []
    },
    {
      "cell_type": "code",
      "metadata": {
        "id": "WjktsTk6LX-i"
      },
      "source": [
        "#Program 46"
      ],
      "execution_count": null,
      "outputs": []
    },
    {
      "cell_type": "code",
      "metadata": {
        "colab": {
          "base_uri": "https://localhost:8080/"
        },
        "id": "7UFmZMn2LcyB",
        "outputId": "a3613c06-e0eb-4ffe-8b78-ac5b7ed9cc6a"
      },
      "source": [
        "#Program 47\n",
        "s = input(\"Enter the string: \")\n",
        "sum = 0\n",
        "for x in s:\n",
        "  if x.isdigit():\n",
        "    sum += int(x)\n",
        "print(\"The sum of digits in a string = \", sum)\n"
      ],
      "execution_count": null,
      "outputs": [
        {
          "output_type": "stream",
          "name": "stdout",
          "text": [
            "Enter the string: 456jgf5\n",
            "The sum of digits in a string =  20\n"
          ]
        }
      ]
    },
    {
      "cell_type": "code",
      "metadata": {
        "id": "3cRt9W-gPlLJ",
        "colab": {
          "base_uri": "https://localhost:8080/"
        },
        "outputId": "55e0731a-6fae-4a55-d83c-74f4eb03b9d5"
      },
      "source": [
        "#Program 48\n",
        "def words(x):\n",
        "  max1 = len(x[0])\n",
        "  for i in x:\n",
        "    if(len(i)>max1):\n",
        "      max1 = len(i)\n",
        "  print(\"The length of longest word is: \",max1) \n",
        "l = ['hello','why','three','computer']\n",
        "words(l)   "
      ],
      "execution_count": null,
      "outputs": [
        {
          "output_type": "stream",
          "name": "stdout",
          "text": [
            "The length of longest word is:  8\n"
          ]
        }
      ]
    },
    {
      "cell_type": "code",
      "metadata": {
        "colab": {
          "base_uri": "https://localhost:8080/"
        },
        "id": "x30qyi06QOvl",
        "outputId": "f68611e1-18de-4c7a-a11a-496873118e8f"
      },
      "source": [
        "#Program 49 \n",
        "def x(n):\n",
        "  y = n^2 + 1\n",
        "  print(\"The result is: \",y)\n",
        "x(4)"
      ],
      "execution_count": null,
      "outputs": [
        {
          "output_type": "stream",
          "name": "stdout",
          "text": [
            "The result is:  7\n"
          ]
        }
      ]
    },
    {
      "cell_type": "code",
      "metadata": {
        "colab": {
          "base_uri": "https://localhost:8080/"
        },
        "id": "CbrJnKHgQoUM",
        "outputId": "359e82e0-022e-47d5-e9eb-1969805d40c8"
      },
      "source": [
        "#Program 50 \n",
        "s = 'Y-tata-acropolis:0.8475'\n",
        "col = s.find(\":\")\n",
        "print(\"The colon is at position: \",col+1)  \n",
        "num = s[col+1:-1]\n",
        "num = float(num)\n",
        "print(num)\n",
        "print(type(num))"
      ],
      "execution_count": null,
      "outputs": [
        {
          "output_type": "stream",
          "name": "stdout",
          "text": [
            "The colon is at position:  17\n",
            "0.847\n",
            "<class 'float'>\n"
          ]
        }
      ]
    },
    {
      "cell_type": "code",
      "metadata": {
        "colab": {
          "base_uri": "https://localhost:8080/"
        },
        "id": "DhZEBRDISpuc",
        "outputId": "983e456c-4263-4b35-b3bf-757022eb325f"
      },
      "source": [
        "#Program 51\n",
        "def middle(a,b,c):\n",
        "  d = min(a,b,c)\n",
        "  e = max(a,b,c)\n",
        "  f = a+b+c-d-e\n",
        "  print(\"The middle one is: \",f)\n",
        "x = int(input(\"Enter first number: \"))\n",
        "y= int(input(\"Enter second number: \"))\n",
        "z = int(input(\"Enter third number: \"))\n",
        "middle(x,y,z)"
      ],
      "execution_count": null,
      "outputs": [
        {
          "output_type": "stream",
          "name": "stdout",
          "text": [
            "Enter first number: 56\n",
            "Enter second number: 20\n",
            "Enter third number: 25\n",
            "The middle one is:  25\n"
          ]
        }
      ]
    },
    {
      "cell_type": "code",
      "metadata": {
        "id": "uRpV4qXHU8jM"
      },
      "source": [
        "#Program 52\n"
      ],
      "execution_count": null,
      "outputs": []
    },
    {
      "cell_type": "code",
      "metadata": {
        "colab": {
          "base_uri": "https://localhost:8080/"
        },
        "id": "YwgdQUTlV_QT",
        "outputId": "c39ced1e-36af-485d-ff14-0a4be46d241e"
      },
      "source": [
        "#Program 53\n",
        "def outer(a,b,c):\n",
        "  def inner(a,b,c):\n",
        "    return a+b+c\n",
        "  add = inner(a,b,c)\n",
        "  return add+5\n",
        "a = int(input(\"Enter a= \"))\n",
        "b = int(input(\"Enter b= \"))\n",
        "c = int(input(\"Enter c =\"))\n",
        "outer(a,b,c)"
      ],
      "execution_count": null,
      "outputs": [
        {
          "name": "stdout",
          "output_type": "stream",
          "text": [
            "Enter a= 4\n",
            "Enter b= 5\n",
            "Enter c =1\n"
          ]
        },
        {
          "output_type": "execute_result",
          "data": {
            "text/plain": [
              "15"
            ]
          },
          "metadata": {},
          "execution_count": 14
        }
      ]
    },
    {
      "cell_type": "code",
      "metadata": {
        "id": "rWExt8fZXgQc"
      },
      "source": [
        "#Program 54\n"
      ],
      "execution_count": null,
      "outputs": []
    },
    {
      "cell_type": "code",
      "metadata": {
        "colab": {
          "base_uri": "https://localhost:8080/"
        },
        "id": "HRrCYl3AZIF3",
        "outputId": "b1ed8874-17c5-406f-950c-95aad74bd0b1"
      },
      "source": [
        "#Program 55\n",
        "def factorial(x):\n",
        "  if x == 1:\n",
        "    return 1\n",
        "  elif x>1:\n",
        "    return x * factorial(x-1)\n",
        "x = int(input(\"Enter the number: \"))\n",
        "y = factorial(x)\n",
        "print(\"The factorial of given number is: \",y)"
      ],
      "execution_count": null,
      "outputs": [
        {
          "output_type": "stream",
          "name": "stdout",
          "text": [
            "Enter the number: 5\n",
            "The factorial of given number is:  120\n"
          ]
        }
      ]
    },
    {
      "cell_type": "code",
      "metadata": {
        "colab": {
          "base_uri": "https://localhost:8080/"
        },
        "id": "4vqBMaVLblgi",
        "outputId": "80af334b-89c7-4e4c-89cf-e3046054495a"
      },
      "source": [
        "#Program 56\n",
        "def multiple():\n",
        "  x = [n for n in range(100,501) if n%7==0]\n",
        "  print(\"multiple of 7 are: \",x)\n",
        "  y = [n for n in range(100,501) if n%9==0]\n",
        "  print(\"multiples of 9 are: \",y)\n",
        "\n",
        "multiple()"
      ],
      "execution_count": null,
      "outputs": [
        {
          "output_type": "stream",
          "name": "stdout",
          "text": [
            "multiple of 7 are:  [105, 112, 119, 126, 133, 140, 147, 154, 161, 168, 175, 182, 189, 196, 203, 210, 217, 224, 231, 238, 245, 252, 259, 266, 273, 280, 287, 294, 301, 308, 315, 322, 329, 336, 343, 350, 357, 364, 371, 378, 385, 392, 399, 406, 413, 420, 427, 434, 441, 448, 455, 462, 469, 476, 483, 490, 497]\n",
            "multiples of 9 are:  [108, 117, 126, 135, 144, 153, 162, 171, 180, 189, 198, 207, 216, 225, 234, 243, 252, 261, 270, 279, 288, 297, 306, 315, 324, 333, 342, 351, 360, 369, 378, 387, 396, 405, 414, 423, 432, 441, 450, 459, 468, 477, 486, 495]\n"
          ]
        }
      ]
    },
    {
      "cell_type": "code",
      "metadata": {
        "colab": {
          "base_uri": "https://localhost:8080/"
        },
        "id": "eD42YfIHdfkD",
        "outputId": "20dce778-ba34-4156-907b-2e9b55759a33"
      },
      "source": [
        "#Program 57\n",
        "def prime(n):\n",
        "  flag=0\n",
        "  for i in range(2,n):\n",
        "    if(n%i==0):\n",
        "      flag=1\n",
        "  if flag==1:\n",
        "    print(\"The given number is not prime\")\n",
        "  else:\n",
        "    print(\"The given number is prime\")\n",
        "n = int(input(\"Enter the number: \"))\n",
        "prime(n)"
      ],
      "execution_count": null,
      "outputs": [
        {
          "output_type": "stream",
          "name": "stdout",
          "text": [
            "Enter the number: 23\n",
            "The given number is prime\n"
          ]
        }
      ]
    },
    {
      "cell_type": "code",
      "metadata": {
        "colab": {
          "base_uri": "https://localhost:8080/"
        },
        "id": "0xxhP7cOeKb7",
        "outputId": "fc944593-433e-400b-89a2-589d450bdade"
      },
      "source": [
        "#Program 58\n",
        "def armstrong(n):\n",
        "  x = n\n",
        "  sum = 0\n",
        "  while(n != 0):\n",
        "    dig = n%10\n",
        "    sum = sum + (dig**3)\n",
        "    n = n//10\n",
        "  if(x == sum):\n",
        "    print(\"The number is an armstrong number \")\n",
        "  else:\n",
        "    print(\"The number is not an armstrong number \")\n",
        "n = int(input(\"Enter the number: \"))\n",
        "armstrong(n)"
      ],
      "execution_count": null,
      "outputs": [
        {
          "output_type": "stream",
          "name": "stdout",
          "text": [
            "Enter the number: 315\n",
            "The number is not an armstrong number \n"
          ]
        }
      ]
    },
    {
      "cell_type": "code",
      "metadata": {
        "colab": {
          "base_uri": "https://localhost:8080/"
        },
        "id": "rX6zbJiSfrUj",
        "outputId": "6dbb733f-360f-4212-f9ad-1027789404b0"
      },
      "source": [
        "#Program 59\n",
        "def A(s1):\n",
        "  print(\"Hello \"+ s1 +\".\")\n",
        "def B(s1,s2):\n",
        "  print(s1 + \" loves \" + s2)\n",
        "  return A(s1)\n",
        "B('Yash','Python')"
      ],
      "execution_count": null,
      "outputs": [
        {
          "output_type": "stream",
          "name": "stdout",
          "text": [
            "Yash loves Python\n",
            "Hello Yash.\n"
          ]
        }
      ]
    },
    {
      "cell_type": "code",
      "metadata": {
        "colab": {
          "base_uri": "https://localhost:8080/",
          "height": 52
        },
        "id": "9W9BEwSphAcJ",
        "outputId": "61ad7d51-2a95-4c88-ccf6-893c8d620fe5"
      },
      "source": [
        "#Program 60\n",
        "def start_process(p):\n",
        "  if p=='Yes'or p=='yes':\n",
        "    return \"Start Process\"\n",
        "  elif p == 'No'or p=='no':\n",
        "    return \"Start Process Aborted\"\n",
        "  else:\n",
        "    return \"Sorry for the input\"\n",
        "p = str(input(\"Enter the value of p: \"))\n",
        "start_process(p)"
      ],
      "execution_count": null,
      "outputs": [
        {
          "name": "stdout",
          "output_type": "stream",
          "text": [
            "Enter the value of p: no\n"
          ]
        },
        {
          "output_type": "execute_result",
          "data": {
            "application/vnd.google.colaboratory.intrinsic+json": {
              "type": "string"
            },
            "text/plain": [
              "'Start Process Aborted'"
            ]
          },
          "metadata": {},
          "execution_count": 40
        }
      ]
    },
    {
      "cell_type": "code",
      "metadata": {
        "colab": {
          "base_uri": "https://localhost:8080/",
          "height": 52
        },
        "id": "seWBn4jHh-3c",
        "outputId": "4cc5fce5-db49-4650-b64f-8d5ad1237af2"
      },
      "source": [
        "#Program 61\n",
        "def calculate_distance(x):\n",
        "  if (type(x)== int or type(x)==float ):\n",
        "    return x\n",
        "  else: \n",
        "    return 'NO VALUE'\n",
        "x = input(\"Enter the value: \")\n",
        "calculate_distance(x)"
      ],
      "execution_count": null,
      "outputs": [
        {
          "name": "stdout",
          "output_type": "stream",
          "text": [
            "Enter the value: 5\n"
          ]
        },
        {
          "output_type": "execute_result",
          "data": {
            "application/vnd.google.colaboratory.intrinsic+json": {
              "type": "string"
            },
            "text/plain": [
              "'NO VALUE'"
            ]
          },
          "metadata": {},
          "execution_count": 53
        }
      ]
    },
    {
      "cell_type": "code",
      "metadata": {
        "colab": {
          "base_uri": "https://localhost:8080/"
        },
        "id": "IUI2EikRjxAb",
        "outputId": "82d9add8-528b-4db3-ff06-9f5b4d9d56cb"
      },
      "source": [
        "#Program 62\n",
        "from functools import reduce\n",
        "l = []\n",
        "n = int(input(\"Enter the number of elements in list: \"))\n",
        "for i in range(0,n):\n",
        "  a = int(input())\n",
        "  l.append(a)  \n",
        "print(\"the list is: \",l)\n",
        "sum = reduce(lambda x,y:x+y,l)\n",
        "print(\"The sum of input is: \",sum)"
      ],
      "execution_count": null,
      "outputs": [
        {
          "output_type": "stream",
          "name": "stdout",
          "text": [
            "Enter the number of elements in list: 4\n",
            "1\n",
            "2\n",
            "3\n",
            "4\n",
            "the list is:  [1, 2, 3, 4]\n",
            "The sum of input is:  10\n"
          ]
        }
      ]
    },
    {
      "cell_type": "code",
      "metadata": {
        "colab": {
          "base_uri": "https://localhost:8080/"
        },
        "id": "Rd1bxWp7l8lF",
        "outputId": "d0931497-f2cb-4abe-f4f3-1783ce74995a"
      },
      "source": [
        "#Program 63\n",
        "li = [5, 7, 'cat', 'dog']\n",
        "n = input(\"Enter the element to be added: \")\n",
        "i = int(input(\"Enter the position at which element ot be added: \"))\n",
        "li.insert(i,n)\n",
        "print(li)"
      ],
      "execution_count": null,
      "outputs": [
        {
          "output_type": "stream",
          "name": "stdout",
          "text": [
            "Enter the element to be added: cta\n",
            "Enter the position at which element ot be added: 3\n",
            "[5, 7, 'cat', 'cta', 'dog']\n"
          ]
        }
      ]
    },
    {
      "cell_type": "code",
      "metadata": {
        "colab": {
          "base_uri": "https://localhost:8080/"
        },
        "id": "he64f9r2m_1i",
        "outputId": "20f15770-2681-4c8c-c5fb-7311619bf21e"
      },
      "source": [
        "#Program 64\n",
        "my_list=[]\n",
        "while True:\n",
        "  a = input()\n",
        "  if a== 'done':\n",
        "    break\n",
        "  my_list.append(a)\n",
        "print(\"Maximun= \",max(my_list))\n",
        "print(\"Minimun= \",min(my_list))"
      ],
      "execution_count": null,
      "outputs": [
        {
          "output_type": "stream",
          "name": "stdout",
          "text": [
            "0\n",
            "98\n",
            "56\n",
            "21\n",
            "done\n",
            "Maximun=  98\n",
            "Minimun=  0\n"
          ]
        }
      ]
    },
    {
      "cell_type": "code",
      "metadata": {
        "colab": {
          "base_uri": "https://localhost:8080/"
        },
        "id": "CIPC2bxzorcU",
        "outputId": "1a6fa063-1cef-4c1c-955e-e8869f1cd7aa"
      },
      "source": [
        "#Program 65\n",
        "my_list=[]\n",
        "n = int(input(\"Enter the number of elements in list: \"))\n",
        "for i in range(0,n):\n",
        "  a = int(input())\n",
        "  my_list.append(a)\n",
        "print(\"Maximun= \",max(my_list))\n",
        "print(\"Minimun= \",min(my_list))"
      ],
      "execution_count": null,
      "outputs": [
        {
          "output_type": "stream",
          "name": "stdout",
          "text": [
            "Enter the number of elements in list: 5\n",
            "89\n",
            "56\n",
            "892\n",
            "56\n",
            "5\n",
            "Maximun=  892\n",
            "Minimun=  5\n"
          ]
        }
      ]
    },
    {
      "cell_type": "code",
      "metadata": {
        "colab": {
          "base_uri": "https://localhost:8080/"
        },
        "id": "LEdcN5G4sqVh",
        "outputId": "392b821f-818d-4b10-df70-89a11785d052"
      },
      "source": [
        "#Program 66\n",
        "my_list=[]\n",
        "n = int(input(\"Enter the number of elements in list: \"))\n",
        "for i in range(0,n):\n",
        "  a = int(input())\n",
        "  my_list.append(a)\n",
        "print(my_list)\n",
        "num = int(input(\"Enter the position of number to be deleted: \"))\n",
        "my_list.pop(num)\n",
        "print(\"The new list will be : \",my_list)"
      ],
      "execution_count": null,
      "outputs": [
        {
          "output_type": "stream",
          "name": "stdout",
          "text": [
            "Enter the number of elements in list: 10\n",
            "5\n",
            "4\n",
            "6\n",
            "8\n",
            "98\n",
            "78\n",
            "56\n",
            "76\n",
            "6\n",
            "46\n",
            "[5, 4, 6, 8, 98, 78, 56, 76, 6, 46]\n",
            "Enter the position of number to be deleted: 5\n",
            "The new list will be :  [5, 4, 6, 8, 98, 56, 76, 6, 46]\n"
          ]
        }
      ]
    },
    {
      "cell_type": "code",
      "metadata": {
        "colab": {
          "base_uri": "https://localhost:8080/"
        },
        "id": "0cfjoEa1tT9-",
        "outputId": "394d2a0e-9df5-47f6-bfa9-4b6dd073b89a"
      },
      "source": [
        "#Program 67\n",
        "li = [1,2,3,5,3,6,8,9,54,5,6,4]\n",
        "li.pop(1)\n",
        "li.pop(2)\n",
        "li.pop(5)\n",
        "print(\"Specified list= \",li)"
      ],
      "execution_count": null,
      "outputs": [
        {
          "output_type": "stream",
          "name": "stdout",
          "text": [
            "Specified list=  [1, 3, 3, 6, 8, 54, 5, 6, 4]\n"
          ]
        }
      ]
    },
    {
      "cell_type": "code",
      "metadata": {
        "colab": {
          "base_uri": "https://localhost:8080/"
        },
        "id": "wdePlhPjuKdU",
        "outputId": "3b5db095-9b98-4c6c-9208-081f962c896a"
      },
      "source": [
        "#Program 68\n",
        "li=[1,2,3,4,5]\n",
        "def sublist(li):\n",
        "  ls=[]\n",
        "  l= len(li)\n",
        "  for i in range(l+1):\n",
        "    for j in range(i):\n",
        "      ls.append(li[j:i])\n",
        "  return ls\n",
        "a = sublist(li)\n",
        "print(a)"
      ],
      "execution_count": null,
      "outputs": [
        {
          "output_type": "stream",
          "name": "stdout",
          "text": [
            "[[1], [1, 2], [2], [1, 2, 3], [2, 3], [3], [1, 2, 3, 4], [2, 3, 4], [3, 4], [4], [1, 2, 3, 4, 5], [2, 3, 4, 5], [3, 4, 5], [4, 5], [5]]\n"
          ]
        }
      ]
    },
    {
      "cell_type": "code",
      "metadata": {
        "colab": {
          "base_uri": "https://localhost:8080/"
        },
        "id": "EMf_t9HWx4bg",
        "outputId": "258d9124-2f53-4d9b-9d48-e676f103303f"
      },
      "source": [
        "#Program 69\n",
        "li = [45,89,56,75,89,21,46,48,100,235,59,8,78,9,132,5,65,5,55]\n",
        "n = int(input(\"Enter a number to be compared: \"))\n",
        "li = list(filter(lambda x: x>n,li))\n",
        "print(\"The list of numbers greater than the given numbers is\")\n",
        "print(li)"
      ],
      "execution_count": null,
      "outputs": [
        {
          "output_type": "stream",
          "name": "stdout",
          "text": [
            "Enter a number to be compared: 45\n",
            "The list of numbers greater than the given numbers is\n",
            "[89, 56, 75, 89, 46, 48, 100, 235, 59, 78, 132, 65, 55]\n"
          ]
        }
      ]
    },
    {
      "cell_type": "code",
      "metadata": {
        "colab": {
          "base_uri": "https://localhost:8080/"
        },
        "id": "rNG2qADpys2x",
        "outputId": "ae11d752-b987-447c-d9ec-afce3dda0396"
      },
      "source": [
        "#Program 70\n",
        "li = [45,89,56,75,89,21,46,48,100,235,59,8,78,9,132,5,65,5,55]\n",
        "li = list(filter(lambda x: x%2==0,li))\n",
        "print(\"The even numbers in the above list are: \")\n",
        "print(li)"
      ],
      "execution_count": null,
      "outputs": [
        {
          "output_type": "stream",
          "name": "stdout",
          "text": [
            "The even numbers in the above list are: \n",
            "[56, 46, 48, 100, 8, 78, 132]\n"
          ]
        }
      ]
    }
  ]
}